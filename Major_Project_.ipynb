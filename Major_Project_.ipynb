{
  "cells": [
    {
      "cell_type": "markdown",
      "metadata": {
        "id": "view-in-github",
        "colab_type": "text"
      },
      "source": [
        "<a href=\"https://colab.research.google.com/github/JasmineKaur-programlab/Pandamic-Analysis-using-Python/blob/main/Major_Project_.ipynb\" target=\"_parent\"><img src=\"https://colab.research.google.com/assets/colab-badge.svg\" alt=\"Open In Colab\"/></a>"
      ]
    },
    {
      "cell_type": "markdown",
      "metadata": {
        "id": "Qk6HBIMbu35y"
      },
      "source": [
        "## Q. WHO has hired you for working on the dataset of COVID-19. Aggregate data and within 2 days present your point of view to the joint commitee on strategic planning to fight against COVID-19\n",
        "\n",
        "## A. Present state analytics - India\n",
        "## Allotted state - Maharashtra\n"
      ]
    },
    {
      "cell_type": "code",
      "execution_count": 1,
      "metadata": {
        "id": "wJm0QWY8u354"
      },
      "outputs": [],
      "source": [
        "import pandas as pd\n",
        "import matplotlib.pyplot as plt   #importing required libraries\n",
        "import numpy as np\n",
        "import seaborn as sns\n",
        "from sklearn import preprocessing\n",
        "from sklearn.model_selection import train_test_split\n",
        "from sklearn.neighbors import KNeighborsClassifier\n",
        "from sklearn.preprocessing import LabelEncoder\n",
        "from sklearn import metrics"
      ]
    },
    {
      "cell_type": "code",
      "execution_count": 3,
      "metadata": {
        "id": "pk6Ctkonu356"
      },
      "outputs": [],
      "source": [
        "dateCols = ['Date']\n",
        "\n",
        "data = pd.read_csv(\"covid-19.csv\")"
      ]
    },
    {
      "cell_type": "code",
      "execution_count": null,
      "metadata": {
        "id": "ZFwBzNXru356",
        "outputId": "d7746e1c-2297-4772-d265-e819d62cb8ce"
      },
      "outputs": [
        {
          "name": "stdout",
          "output_type": "stream",
          "text": [
            "<class 'pandas.core.frame.DataFrame'>\n",
            "RangeIndex: 3711 entries, 0 to 3710\n",
            "Data columns (total 9 columns):\n",
            " #   Column                    Non-Null Count  Dtype \n",
            "---  ------                    --------------  ----- \n",
            " 0   Sno                       3711 non-null   int64 \n",
            " 1   Date                      3711 non-null   object\n",
            " 2   Time                      3711 non-null   object\n",
            " 3   State/UnionTerritory      3711 non-null   object\n",
            " 4   ConfirmedIndianNational   3711 non-null   object\n",
            " 5   ConfirmedForeignNational  3711 non-null   object\n",
            " 6   Cured                     3711 non-null   int64 \n",
            " 7   Deaths                    3711 non-null   int64 \n",
            " 8   Confirmed                 3711 non-null   int64 \n",
            "dtypes: int64(4), object(5)\n",
            "memory usage: 261.1+ KB\n"
          ]
        }
      ],
      "source": [
        "data.info()"
      ]
    },
    {
      "cell_type": "code",
      "execution_count": 4,
      "metadata": {
        "colab": {
          "base_uri": "https://localhost:8080/",
          "height": 240
        },
        "id": "Z7FOLNT-u358",
        "outputId": "bc0ce3f0-5691-49ed-b213-7bd71b407bb3"
      },
      "outputs": [
        {
          "output_type": "execute_result",
          "data": {
            "text/html": [
              "\n",
              "  <div id=\"df-3e8fe666-0c3a-4bf9-a1fb-b4920fcd9de5\">\n",
              "    <div class=\"colab-df-container\">\n",
              "      <div>\n",
              "<style scoped>\n",
              "    .dataframe tbody tr th:only-of-type {\n",
              "        vertical-align: middle;\n",
              "    }\n",
              "\n",
              "    .dataframe tbody tr th {\n",
              "        vertical-align: top;\n",
              "    }\n",
              "\n",
              "    .dataframe thead th {\n",
              "        text-align: right;\n",
              "    }\n",
              "</style>\n",
              "<table border=\"1\" class=\"dataframe\">\n",
              "  <thead>\n",
              "    <tr style=\"text-align: right;\">\n",
              "      <th></th>\n",
              "      <th>Sno</th>\n",
              "      <th>Date</th>\n",
              "      <th>Time</th>\n",
              "      <th>State/UnionTerritory</th>\n",
              "      <th>ConfirmedIndianNational</th>\n",
              "      <th>ConfirmedForeignNational</th>\n",
              "      <th>Cured</th>\n",
              "      <th>Deaths</th>\n",
              "      <th>Confirmed</th>\n",
              "    </tr>\n",
              "  </thead>\n",
              "  <tbody>\n",
              "    <tr>\n",
              "      <th>0</th>\n",
              "      <td>1</td>\n",
              "      <td>30/01/20</td>\n",
              "      <td>6:00 PM</td>\n",
              "      <td>Kerala</td>\n",
              "      <td>1</td>\n",
              "      <td>0</td>\n",
              "      <td>0</td>\n",
              "      <td>0</td>\n",
              "      <td>1</td>\n",
              "    </tr>\n",
              "    <tr>\n",
              "      <th>1</th>\n",
              "      <td>2</td>\n",
              "      <td>31/01/20</td>\n",
              "      <td>6:00 PM</td>\n",
              "      <td>Kerala</td>\n",
              "      <td>1</td>\n",
              "      <td>0</td>\n",
              "      <td>0</td>\n",
              "      <td>0</td>\n",
              "      <td>1</td>\n",
              "    </tr>\n",
              "    <tr>\n",
              "      <th>2</th>\n",
              "      <td>3</td>\n",
              "      <td>01/02/20</td>\n",
              "      <td>6:00 PM</td>\n",
              "      <td>Kerala</td>\n",
              "      <td>2</td>\n",
              "      <td>0</td>\n",
              "      <td>0</td>\n",
              "      <td>0</td>\n",
              "      <td>2</td>\n",
              "    </tr>\n",
              "  </tbody>\n",
              "</table>\n",
              "</div>\n",
              "      <button class=\"colab-df-convert\" onclick=\"convertToInteractive('df-3e8fe666-0c3a-4bf9-a1fb-b4920fcd9de5')\"\n",
              "              title=\"Convert this dataframe to an interactive table.\"\n",
              "              style=\"display:none;\">\n",
              "        \n",
              "  <svg xmlns=\"http://www.w3.org/2000/svg\" height=\"24px\"viewBox=\"0 0 24 24\"\n",
              "       width=\"24px\">\n",
              "    <path d=\"M0 0h24v24H0V0z\" fill=\"none\"/>\n",
              "    <path d=\"M18.56 5.44l.94 2.06.94-2.06 2.06-.94-2.06-.94-.94-2.06-.94 2.06-2.06.94zm-11 1L8.5 8.5l.94-2.06 2.06-.94-2.06-.94L8.5 2.5l-.94 2.06-2.06.94zm10 10l.94 2.06.94-2.06 2.06-.94-2.06-.94-.94-2.06-.94 2.06-2.06.94z\"/><path d=\"M17.41 7.96l-1.37-1.37c-.4-.4-.92-.59-1.43-.59-.52 0-1.04.2-1.43.59L10.3 9.45l-7.72 7.72c-.78.78-.78 2.05 0 2.83L4 21.41c.39.39.9.59 1.41.59.51 0 1.02-.2 1.41-.59l7.78-7.78 2.81-2.81c.8-.78.8-2.07 0-2.86zM5.41 20L4 18.59l7.72-7.72 1.47 1.35L5.41 20z\"/>\n",
              "  </svg>\n",
              "      </button>\n",
              "      \n",
              "  <style>\n",
              "    .colab-df-container {\n",
              "      display:flex;\n",
              "      flex-wrap:wrap;\n",
              "      gap: 12px;\n",
              "    }\n",
              "\n",
              "    .colab-df-convert {\n",
              "      background-color: #E8F0FE;\n",
              "      border: none;\n",
              "      border-radius: 50%;\n",
              "      cursor: pointer;\n",
              "      display: none;\n",
              "      fill: #1967D2;\n",
              "      height: 32px;\n",
              "      padding: 0 0 0 0;\n",
              "      width: 32px;\n",
              "    }\n",
              "\n",
              "    .colab-df-convert:hover {\n",
              "      background-color: #E2EBFA;\n",
              "      box-shadow: 0px 1px 2px rgba(60, 64, 67, 0.3), 0px 1px 3px 1px rgba(60, 64, 67, 0.15);\n",
              "      fill: #174EA6;\n",
              "    }\n",
              "\n",
              "    [theme=dark] .colab-df-convert {\n",
              "      background-color: #3B4455;\n",
              "      fill: #D2E3FC;\n",
              "    }\n",
              "\n",
              "    [theme=dark] .colab-df-convert:hover {\n",
              "      background-color: #434B5C;\n",
              "      box-shadow: 0px 1px 3px 1px rgba(0, 0, 0, 0.15);\n",
              "      filter: drop-shadow(0px 1px 2px rgba(0, 0, 0, 0.3));\n",
              "      fill: #FFFFFF;\n",
              "    }\n",
              "  </style>\n",
              "\n",
              "      <script>\n",
              "        const buttonEl =\n",
              "          document.querySelector('#df-3e8fe666-0c3a-4bf9-a1fb-b4920fcd9de5 button.colab-df-convert');\n",
              "        buttonEl.style.display =\n",
              "          google.colab.kernel.accessAllowed ? 'block' : 'none';\n",
              "\n",
              "        async function convertToInteractive(key) {\n",
              "          const element = document.querySelector('#df-3e8fe666-0c3a-4bf9-a1fb-b4920fcd9de5');\n",
              "          const dataTable =\n",
              "            await google.colab.kernel.invokeFunction('convertToInteractive',\n",
              "                                                     [key], {});\n",
              "          if (!dataTable) return;\n",
              "\n",
              "          const docLinkHtml = 'Like what you see? Visit the ' +\n",
              "            '<a target=\"_blank\" href=https://colab.research.google.com/notebooks/data_table.ipynb>data table notebook</a>'\n",
              "            + ' to learn more about interactive tables.';\n",
              "          element.innerHTML = '';\n",
              "          dataTable['output_type'] = 'display_data';\n",
              "          await google.colab.output.renderOutput(dataTable, element);\n",
              "          const docLink = document.createElement('div');\n",
              "          docLink.innerHTML = docLinkHtml;\n",
              "          element.appendChild(docLink);\n",
              "        }\n",
              "      </script>\n",
              "    </div>\n",
              "  </div>\n",
              "  "
            ],
            "text/plain": [
              "   Sno      Date     Time  ... Cured Deaths Confirmed\n",
              "0    1  30/01/20  6:00 PM  ...     0      0         1\n",
              "1    2  31/01/20  6:00 PM  ...     0      0         1\n",
              "2    3  01/02/20  6:00 PM  ...     0      0         2\n",
              "\n",
              "[3 rows x 9 columns]"
            ]
          },
          "metadata": {},
          "execution_count": 4
        }
      ],
      "source": [
        "data.head(3)"
      ]
    },
    {
      "cell_type": "code",
      "execution_count": 5,
      "metadata": {
        "colab": {
          "base_uri": "https://localhost:8080/"
        },
        "id": "Pgzcg_Rju358",
        "outputId": "efdfedd6-004c-4aab-8603-801e93f44f08"
      },
      "outputs": [
        {
          "output_type": "execute_result",
          "data": {
            "text/plain": [
              "['Sno',\n",
              " 'Date',\n",
              " 'Time',\n",
              " 'State/UnionTerritory',\n",
              " 'ConfirmedIndianNational',\n",
              " 'ConfirmedForeignNational',\n",
              " 'Cured',\n",
              " 'Deaths',\n",
              " 'Confirmed']"
            ]
          },
          "metadata": {},
          "execution_count": 5
        }
      ],
      "source": [
        "data_col = []\n",
        "\n",
        "for col in data.columns:   #printing columns to eliminate column which is not necessay \n",
        "    data_col.append(col)\n",
        "    \n",
        "data_col"
      ]
    },
    {
      "cell_type": "code",
      "execution_count": 6,
      "metadata": {
        "colab": {
          "base_uri": "https://localhost:8080/",
          "height": 270
        },
        "id": "Vk2i-H_Pu359",
        "outputId": "21241206-51a0-4ef2-eeec-5a4492472a97"
      },
      "outputs": [
        {
          "output_type": "execute_result",
          "data": {
            "text/html": [
              "\n",
              "  <div id=\"df-63bef0be-96a0-462a-9dc6-962796b8654e\">\n",
              "    <div class=\"colab-df-container\">\n",
              "      <div>\n",
              "<style scoped>\n",
              "    .dataframe tbody tr th:only-of-type {\n",
              "        vertical-align: middle;\n",
              "    }\n",
              "\n",
              "    .dataframe tbody tr th {\n",
              "        vertical-align: top;\n",
              "    }\n",
              "\n",
              "    .dataframe thead th {\n",
              "        text-align: right;\n",
              "    }\n",
              "</style>\n",
              "<table border=\"1\" class=\"dataframe\">\n",
              "  <thead>\n",
              "    <tr style=\"text-align: right;\">\n",
              "      <th></th>\n",
              "      <th>Sno</th>\n",
              "      <th>Date</th>\n",
              "      <th>Time</th>\n",
              "      <th>State/UnionTerritory</th>\n",
              "      <th>ConfirmedIndianNational</th>\n",
              "      <th>ConfirmedForeignNational</th>\n",
              "      <th>Cured</th>\n",
              "      <th>Deaths</th>\n",
              "      <th>Confirmed</th>\n",
              "    </tr>\n",
              "  </thead>\n",
              "  <tbody>\n",
              "    <tr>\n",
              "      <th>2546</th>\n",
              "      <td>False</td>\n",
              "      <td>False</td>\n",
              "      <td>False</td>\n",
              "      <td>False</td>\n",
              "      <td>False</td>\n",
              "      <td>False</td>\n",
              "      <td>False</td>\n",
              "      <td>False</td>\n",
              "      <td>False</td>\n",
              "    </tr>\n",
              "    <tr>\n",
              "      <th>3356</th>\n",
              "      <td>False</td>\n",
              "      <td>False</td>\n",
              "      <td>False</td>\n",
              "      <td>False</td>\n",
              "      <td>False</td>\n",
              "      <td>False</td>\n",
              "      <td>False</td>\n",
              "      <td>False</td>\n",
              "      <td>False</td>\n",
              "    </tr>\n",
              "    <tr>\n",
              "      <th>2717</th>\n",
              "      <td>False</td>\n",
              "      <td>False</td>\n",
              "      <td>False</td>\n",
              "      <td>False</td>\n",
              "      <td>False</td>\n",
              "      <td>False</td>\n",
              "      <td>False</td>\n",
              "      <td>False</td>\n",
              "      <td>False</td>\n",
              "    </tr>\n",
              "    <tr>\n",
              "      <th>572</th>\n",
              "      <td>False</td>\n",
              "      <td>False</td>\n",
              "      <td>False</td>\n",
              "      <td>False</td>\n",
              "      <td>False</td>\n",
              "      <td>False</td>\n",
              "      <td>False</td>\n",
              "      <td>False</td>\n",
              "      <td>False</td>\n",
              "    </tr>\n",
              "    <tr>\n",
              "      <th>3161</th>\n",
              "      <td>False</td>\n",
              "      <td>False</td>\n",
              "      <td>False</td>\n",
              "      <td>False</td>\n",
              "      <td>False</td>\n",
              "      <td>False</td>\n",
              "      <td>False</td>\n",
              "      <td>False</td>\n",
              "      <td>False</td>\n",
              "    </tr>\n",
              "  </tbody>\n",
              "</table>\n",
              "</div>\n",
              "      <button class=\"colab-df-convert\" onclick=\"convertToInteractive('df-63bef0be-96a0-462a-9dc6-962796b8654e')\"\n",
              "              title=\"Convert this dataframe to an interactive table.\"\n",
              "              style=\"display:none;\">\n",
              "        \n",
              "  <svg xmlns=\"http://www.w3.org/2000/svg\" height=\"24px\"viewBox=\"0 0 24 24\"\n",
              "       width=\"24px\">\n",
              "    <path d=\"M0 0h24v24H0V0z\" fill=\"none\"/>\n",
              "    <path d=\"M18.56 5.44l.94 2.06.94-2.06 2.06-.94-2.06-.94-.94-2.06-.94 2.06-2.06.94zm-11 1L8.5 8.5l.94-2.06 2.06-.94-2.06-.94L8.5 2.5l-.94 2.06-2.06.94zm10 10l.94 2.06.94-2.06 2.06-.94-2.06-.94-.94-2.06-.94 2.06-2.06.94z\"/><path d=\"M17.41 7.96l-1.37-1.37c-.4-.4-.92-.59-1.43-.59-.52 0-1.04.2-1.43.59L10.3 9.45l-7.72 7.72c-.78.78-.78 2.05 0 2.83L4 21.41c.39.39.9.59 1.41.59.51 0 1.02-.2 1.41-.59l7.78-7.78 2.81-2.81c.8-.78.8-2.07 0-2.86zM5.41 20L4 18.59l7.72-7.72 1.47 1.35L5.41 20z\"/>\n",
              "  </svg>\n",
              "      </button>\n",
              "      \n",
              "  <style>\n",
              "    .colab-df-container {\n",
              "      display:flex;\n",
              "      flex-wrap:wrap;\n",
              "      gap: 12px;\n",
              "    }\n",
              "\n",
              "    .colab-df-convert {\n",
              "      background-color: #E8F0FE;\n",
              "      border: none;\n",
              "      border-radius: 50%;\n",
              "      cursor: pointer;\n",
              "      display: none;\n",
              "      fill: #1967D2;\n",
              "      height: 32px;\n",
              "      padding: 0 0 0 0;\n",
              "      width: 32px;\n",
              "    }\n",
              "\n",
              "    .colab-df-convert:hover {\n",
              "      background-color: #E2EBFA;\n",
              "      box-shadow: 0px 1px 2px rgba(60, 64, 67, 0.3), 0px 1px 3px 1px rgba(60, 64, 67, 0.15);\n",
              "      fill: #174EA6;\n",
              "    }\n",
              "\n",
              "    [theme=dark] .colab-df-convert {\n",
              "      background-color: #3B4455;\n",
              "      fill: #D2E3FC;\n",
              "    }\n",
              "\n",
              "    [theme=dark] .colab-df-convert:hover {\n",
              "      background-color: #434B5C;\n",
              "      box-shadow: 0px 1px 3px 1px rgba(0, 0, 0, 0.15);\n",
              "      filter: drop-shadow(0px 1px 2px rgba(0, 0, 0, 0.3));\n",
              "      fill: #FFFFFF;\n",
              "    }\n",
              "  </style>\n",
              "\n",
              "      <script>\n",
              "        const buttonEl =\n",
              "          document.querySelector('#df-63bef0be-96a0-462a-9dc6-962796b8654e button.colab-df-convert');\n",
              "        buttonEl.style.display =\n",
              "          google.colab.kernel.accessAllowed ? 'block' : 'none';\n",
              "\n",
              "        async function convertToInteractive(key) {\n",
              "          const element = document.querySelector('#df-63bef0be-96a0-462a-9dc6-962796b8654e');\n",
              "          const dataTable =\n",
              "            await google.colab.kernel.invokeFunction('convertToInteractive',\n",
              "                                                     [key], {});\n",
              "          if (!dataTable) return;\n",
              "\n",
              "          const docLinkHtml = 'Like what you see? Visit the ' +\n",
              "            '<a target=\"_blank\" href=https://colab.research.google.com/notebooks/data_table.ipynb>data table notebook</a>'\n",
              "            + ' to learn more about interactive tables.';\n",
              "          element.innerHTML = '';\n",
              "          dataTable['output_type'] = 'display_data';\n",
              "          await google.colab.output.renderOutput(dataTable, element);\n",
              "          const docLink = document.createElement('div');\n",
              "          docLink.innerHTML = docLinkHtml;\n",
              "          element.appendChild(docLink);\n",
              "        }\n",
              "      </script>\n",
              "    </div>\n",
              "  </div>\n",
              "  "
            ],
            "text/plain": [
              "        Sno   Date   Time  ...  Cured  Deaths  Confirmed\n",
              "2546  False  False  False  ...  False   False      False\n",
              "3356  False  False  False  ...  False   False      False\n",
              "2717  False  False  False  ...  False   False      False\n",
              "572   False  False  False  ...  False   False      False\n",
              "3161  False  False  False  ...  False   False      False\n",
              "\n",
              "[5 rows x 9 columns]"
            ]
          },
          "metadata": {},
          "execution_count": 6
        }
      ],
      "source": [
        "data.sample(5).isna()"
      ]
    },
    {
      "cell_type": "code",
      "execution_count": 7,
      "metadata": {
        "colab": {
          "base_uri": "https://localhost:8080/",
          "height": 424
        },
        "id": "i9Y4lIQXu35-",
        "outputId": "af991fcc-873a-4bf5-fff0-1b167e218abb"
      },
      "outputs": [
        {
          "output_type": "execute_result",
          "data": {
            "text/html": [
              "\n",
              "  <div id=\"df-6271a963-9946-4d66-9eb7-4a100df37f76\">\n",
              "    <div class=\"colab-df-container\">\n",
              "      <div>\n",
              "<style scoped>\n",
              "    .dataframe tbody tr th:only-of-type {\n",
              "        vertical-align: middle;\n",
              "    }\n",
              "\n",
              "    .dataframe tbody tr th {\n",
              "        vertical-align: top;\n",
              "    }\n",
              "\n",
              "    .dataframe thead th {\n",
              "        text-align: right;\n",
              "    }\n",
              "</style>\n",
              "<table border=\"1\" class=\"dataframe\">\n",
              "  <thead>\n",
              "    <tr style=\"text-align: right;\">\n",
              "      <th></th>\n",
              "      <th>Date</th>\n",
              "      <th>State/UnionTerritory</th>\n",
              "      <th>Cured</th>\n",
              "      <th>Deaths</th>\n",
              "      <th>Confirmed</th>\n",
              "    </tr>\n",
              "  </thead>\n",
              "  <tbody>\n",
              "    <tr>\n",
              "      <th>0</th>\n",
              "      <td>30/01/20</td>\n",
              "      <td>Kerala</td>\n",
              "      <td>0</td>\n",
              "      <td>0</td>\n",
              "      <td>1</td>\n",
              "    </tr>\n",
              "    <tr>\n",
              "      <th>1</th>\n",
              "      <td>31/01/20</td>\n",
              "      <td>Kerala</td>\n",
              "      <td>0</td>\n",
              "      <td>0</td>\n",
              "      <td>1</td>\n",
              "    </tr>\n",
              "    <tr>\n",
              "      <th>2</th>\n",
              "      <td>01/02/20</td>\n",
              "      <td>Kerala</td>\n",
              "      <td>0</td>\n",
              "      <td>0</td>\n",
              "      <td>2</td>\n",
              "    </tr>\n",
              "    <tr>\n",
              "      <th>3</th>\n",
              "      <td>02/02/20</td>\n",
              "      <td>Kerala</td>\n",
              "      <td>0</td>\n",
              "      <td>0</td>\n",
              "      <td>3</td>\n",
              "    </tr>\n",
              "    <tr>\n",
              "      <th>4</th>\n",
              "      <td>03/02/20</td>\n",
              "      <td>Kerala</td>\n",
              "      <td>0</td>\n",
              "      <td>0</td>\n",
              "      <td>3</td>\n",
              "    </tr>\n",
              "    <tr>\n",
              "      <th>...</th>\n",
              "      <td>...</td>\n",
              "      <td>...</td>\n",
              "      <td>...</td>\n",
              "      <td>...</td>\n",
              "      <td>...</td>\n",
              "    </tr>\n",
              "    <tr>\n",
              "      <th>3706</th>\n",
              "      <td>03/07/20</td>\n",
              "      <td>Tripura</td>\n",
              "      <td>1146</td>\n",
              "      <td>1</td>\n",
              "      <td>1435</td>\n",
              "    </tr>\n",
              "    <tr>\n",
              "      <th>3707</th>\n",
              "      <td>03/07/20</td>\n",
              "      <td>Uttarakhand</td>\n",
              "      <td>2405</td>\n",
              "      <td>42</td>\n",
              "      <td>2984</td>\n",
              "    </tr>\n",
              "    <tr>\n",
              "      <th>3708</th>\n",
              "      <td>03/07/20</td>\n",
              "      <td>Uttar Pradesh</td>\n",
              "      <td>17221</td>\n",
              "      <td>735</td>\n",
              "      <td>24825</td>\n",
              "    </tr>\n",
              "    <tr>\n",
              "      <th>3709</th>\n",
              "      <td>03/07/20</td>\n",
              "      <td>West Bengal</td>\n",
              "      <td>13037</td>\n",
              "      <td>699</td>\n",
              "      <td>19819</td>\n",
              "    </tr>\n",
              "    <tr>\n",
              "      <th>3710</th>\n",
              "      <td>03/07/20</td>\n",
              "      <td>Cases being reassigned to states</td>\n",
              "      <td>0</td>\n",
              "      <td>0</td>\n",
              "      <td>6031</td>\n",
              "    </tr>\n",
              "  </tbody>\n",
              "</table>\n",
              "<p>3711 rows × 5 columns</p>\n",
              "</div>\n",
              "      <button class=\"colab-df-convert\" onclick=\"convertToInteractive('df-6271a963-9946-4d66-9eb7-4a100df37f76')\"\n",
              "              title=\"Convert this dataframe to an interactive table.\"\n",
              "              style=\"display:none;\">\n",
              "        \n",
              "  <svg xmlns=\"http://www.w3.org/2000/svg\" height=\"24px\"viewBox=\"0 0 24 24\"\n",
              "       width=\"24px\">\n",
              "    <path d=\"M0 0h24v24H0V0z\" fill=\"none\"/>\n",
              "    <path d=\"M18.56 5.44l.94 2.06.94-2.06 2.06-.94-2.06-.94-.94-2.06-.94 2.06-2.06.94zm-11 1L8.5 8.5l.94-2.06 2.06-.94-2.06-.94L8.5 2.5l-.94 2.06-2.06.94zm10 10l.94 2.06.94-2.06 2.06-.94-2.06-.94-.94-2.06-.94 2.06-2.06.94z\"/><path d=\"M17.41 7.96l-1.37-1.37c-.4-.4-.92-.59-1.43-.59-.52 0-1.04.2-1.43.59L10.3 9.45l-7.72 7.72c-.78.78-.78 2.05 0 2.83L4 21.41c.39.39.9.59 1.41.59.51 0 1.02-.2 1.41-.59l7.78-7.78 2.81-2.81c.8-.78.8-2.07 0-2.86zM5.41 20L4 18.59l7.72-7.72 1.47 1.35L5.41 20z\"/>\n",
              "  </svg>\n",
              "      </button>\n",
              "      \n",
              "  <style>\n",
              "    .colab-df-container {\n",
              "      display:flex;\n",
              "      flex-wrap:wrap;\n",
              "      gap: 12px;\n",
              "    }\n",
              "\n",
              "    .colab-df-convert {\n",
              "      background-color: #E8F0FE;\n",
              "      border: none;\n",
              "      border-radius: 50%;\n",
              "      cursor: pointer;\n",
              "      display: none;\n",
              "      fill: #1967D2;\n",
              "      height: 32px;\n",
              "      padding: 0 0 0 0;\n",
              "      width: 32px;\n",
              "    }\n",
              "\n",
              "    .colab-df-convert:hover {\n",
              "      background-color: #E2EBFA;\n",
              "      box-shadow: 0px 1px 2px rgba(60, 64, 67, 0.3), 0px 1px 3px 1px rgba(60, 64, 67, 0.15);\n",
              "      fill: #174EA6;\n",
              "    }\n",
              "\n",
              "    [theme=dark] .colab-df-convert {\n",
              "      background-color: #3B4455;\n",
              "      fill: #D2E3FC;\n",
              "    }\n",
              "\n",
              "    [theme=dark] .colab-df-convert:hover {\n",
              "      background-color: #434B5C;\n",
              "      box-shadow: 0px 1px 3px 1px rgba(0, 0, 0, 0.15);\n",
              "      filter: drop-shadow(0px 1px 2px rgba(0, 0, 0, 0.3));\n",
              "      fill: #FFFFFF;\n",
              "    }\n",
              "  </style>\n",
              "\n",
              "      <script>\n",
              "        const buttonEl =\n",
              "          document.querySelector('#df-6271a963-9946-4d66-9eb7-4a100df37f76 button.colab-df-convert');\n",
              "        buttonEl.style.display =\n",
              "          google.colab.kernel.accessAllowed ? 'block' : 'none';\n",
              "\n",
              "        async function convertToInteractive(key) {\n",
              "          const element = document.querySelector('#df-6271a963-9946-4d66-9eb7-4a100df37f76');\n",
              "          const dataTable =\n",
              "            await google.colab.kernel.invokeFunction('convertToInteractive',\n",
              "                                                     [key], {});\n",
              "          if (!dataTable) return;\n",
              "\n",
              "          const docLinkHtml = 'Like what you see? Visit the ' +\n",
              "            '<a target=\"_blank\" href=https://colab.research.google.com/notebooks/data_table.ipynb>data table notebook</a>'\n",
              "            + ' to learn more about interactive tables.';\n",
              "          element.innerHTML = '';\n",
              "          dataTable['output_type'] = 'display_data';\n",
              "          await google.colab.output.renderOutput(dataTable, element);\n",
              "          const docLink = document.createElement('div');\n",
              "          docLink.innerHTML = docLinkHtml;\n",
              "          element.appendChild(docLink);\n",
              "        }\n",
              "      </script>\n",
              "    </div>\n",
              "  </div>\n",
              "  "
            ],
            "text/plain": [
              "          Date              State/UnionTerritory  Cured  Deaths  Confirmed\n",
              "0     30/01/20                            Kerala      0       0          1\n",
              "1     31/01/20                            Kerala      0       0          1\n",
              "2     01/02/20                            Kerala      0       0          2\n",
              "3     02/02/20                            Kerala      0       0          3\n",
              "4     03/02/20                            Kerala      0       0          3\n",
              "...        ...                               ...    ...     ...        ...\n",
              "3706  03/07/20                           Tripura   1146       1       1435\n",
              "3707  03/07/20                       Uttarakhand   2405      42       2984\n",
              "3708  03/07/20                     Uttar Pradesh  17221     735      24825\n",
              "3709  03/07/20                       West Bengal  13037     699      19819\n",
              "3710  03/07/20  Cases being reassigned to states      0       0       6031\n",
              "\n",
              "[3711 rows x 5 columns]"
            ]
          },
          "metadata": {},
          "execution_count": 7
        }
      ],
      "source": [
        "data.drop(columns=['Sno','Time','ConfirmedIndianNational','ConfirmedForeignNational'],inplace=True)\n",
        "data #dropping unecessay columns"
      ]
    },
    {
      "cell_type": "code",
      "execution_count": null,
      "metadata": {
        "id": "017sdSc0u35_"
      },
      "outputs": [],
      "source": [
        "#sns.set(style='ticks')\n",
        "#b = sns.pairplot(data)\n",
        "#b.map(plt.plot)"
      ]
    },
    {
      "cell_type": "code",
      "execution_count": 8,
      "metadata": {
        "id": "5GFUKj63u36A"
      },
      "outputs": [],
      "source": [
        "temp = data[\"State/UnionTerritory\"] == 'Maharashtra'\n",
        "Maharashtra = data.loc[temp]\n",
        "\n",
        "temp = data[\"State/UnionTerritory\"] == 'Tamil Nadu'\n",
        "TamilNadu = data.loc[temp]\n",
        "\n",
        "temp = data[\"State/UnionTerritory\"] == 'Delhi'\n",
        "Delhi = data.loc[temp]\n",
        "\n",
        "temp = data[\"State/UnionTerritory\"] == 'Gujarat'\n",
        "Gujarat = data.loc[temp]\n",
        "\n",
        "temp = data[\"State/UnionTerritory\"] == 'Uttar Pradesh'\n",
        "UttarPradesh = data.loc[temp]\n",
        "\n",
        "temp = data[\"State/UnionTerritory\"] == 'Rajasthan'\n",
        "Rajasthan = data.loc[temp]\n",
        "\n"
      ]
    },
    {
      "cell_type": "markdown",
      "metadata": {
        "id": "Yptwm3-pu36B"
      },
      "source": [
        "## Insight of top 5 States"
      ]
    },
    {
      "cell_type": "markdown",
      "metadata": {
        "id": "rbrl5ozKu36C"
      },
      "source": [
        "## Maharashtra analysis"
      ]
    },
    {
      "cell_type": "code",
      "execution_count": 9,
      "metadata": {
        "colab": {
          "base_uri": "https://localhost:8080/"
        },
        "id": "sTcmN9Jju36C",
        "outputId": "67550a0f-e325-43dd-edf1-db5147d60a78"
      },
      "outputs": [
        {
          "output_type": "execute_result",
          "data": {
            "text/plain": [
              "76      09/03/20\n",
              "757     08/04/20\n",
              "1723    08/05/20\n",
              "2757    07/06/20\n",
              "Name: Date, dtype: object"
            ]
          },
          "metadata": {},
          "execution_count": 9
        }
      ],
      "source": [
        "Maharashtra.Date[0:118:30]"
      ]
    },
    {
      "cell_type": "code",
      "execution_count": 10,
      "metadata": {
        "colab": {
          "base_uri": "https://localhost:8080/",
          "height": 332
        },
        "id": "PSoGnWEIu36D",
        "outputId": "70da7b58-b15f-4ee6-f461-5f40b1ef9114"
      },
      "outputs": [
        {
          "output_type": "display_data",
          "data": {
            "image/png": "[encoded data removed]",
            "text/plain": [
              "<Figure size 432x288 with 1 Axes>"
            ]
          },
          "metadata": {}
        }
      ],
      "source": [
        "plt.style.use('ggplot')\n",
        "plt.plot(Maharashtra.Date,Maharashtra.Confirmed,label=\"Confirmed\")\n",
        "plt.plot(Maharashtra.Date,Maharashtra.Deaths,label=\"Deaths\")\n",
        "plt.plot(Maharashtra.Date,Maharashtra.Cured,label=\"Cured\")\n",
        "plt.title(\"Relation between Infected , Recovered & Deceased personal of Maharastra 2020 \")\n",
        "plt.xlabel(\"Month\")\n",
        "plt.ylabel(\"No of cases cases\")\n",
        "plt.xticks(Maharashtra.Date[0:118:15].tolist(),rotation=55)\n",
        "plt.legend()\n",
        "plt.show()"
      ]
    },
    {
      "cell_type": "code",
      "execution_count": 11,
      "metadata": {
        "colab": {
          "base_uri": "https://localhost:8080/",
          "height": 265
        },
        "id": "vA0NvB1Gu36E",
        "outputId": "eabf17c9-dcd4-4eb9-b736-112fc9a3cba6"
      },
      "outputs": [
        {
          "output_type": "display_data",
          "data": {
            "image/png": "[encoded data removed]",
            "text/plain": [
              "<Figure size 432x288 with 1 Axes>"
            ]
          },
          "metadata": {}
        }
      ],
      "source": [
        "infected = sum(Maharashtra[\"Confirmed\"])\n",
        "deceased = sum(Maharashtra[\"Deaths\"])\n",
        "recovered = sum(Maharashtra[\"Cured\"])\n",
        "\n",
        "labels = ['Infected', 'Recovered', 'Deceased']\n",
        "sizes = [infected, recovered, deceased]\n",
        "colors = ['lightcoral', 'yellowgreen', 'red']\n",
        "explode = (0, 0, 0) \n",
        "plt.pie(sizes, explode=explode, labels=labels, colors=colors, autopct='%1.1f%%', shadow=True)\n",
        "plt.title(\"Percentage distribution Of Covid-19 Infected, Recovered, Deceased from March till July 2020 of Maharashtra\")\n",
        "plt.axis('equal')\n",
        "plt.show()"
      ]
    },
    {
      "cell_type": "markdown",
      "metadata": {
        "id": "W22molW0u36E"
      },
      "source": [
        "## Tamil Nadu analysis"
      ]
    },
    {
      "cell_type": "code",
      "execution_count": 12,
      "metadata": {
        "colab": {
          "base_uri": "https://localhost:8080/"
        },
        "id": "B_0xwQB9u36F",
        "outputId": "e23f30de-41d1-470d-bdad-b896ff2c44bf"
      },
      "outputs": [
        {
          "output_type": "execute_result",
          "data": {
            "text/plain": [
              "61      07/03/20\n",
              "703     06/04/20\n",
              "1665    06/05/20\n",
              "2695    05/06/20\n",
              "Name: Date, dtype: object"
            ]
          },
          "metadata": {},
          "execution_count": 12
        }
      ],
      "source": [
        "TamilNadu.Date[0:110:30]"
      ]
    },
    {
      "cell_type": "code",
      "execution_count": null,
      "metadata": {
        "id": "f8upm9zpu36G",
        "outputId": "acc39044-47f2-448b-d64c-009f5e3fa2b6"
      },
      "outputs": [
        {
          "data": {
            "image/png": "[encoded data removed]",
            "text/plain": [
              "<Figure size 432x288 with 1 Axes>"
            ]
          },
          "metadata": {},
          "output_type": "display_data"
        }
      ],
      "source": [
        "plt.style.use('ggplot')\n",
        "plt.plot(TamilNadu.Date,TamilNadu.Confirmed,label=\"Confirmed\")\n",
        "plt.plot(TamilNadu.Date,TamilNadu.Deaths,label=\"Deaths\")\n",
        "plt.plot(TamilNadu.Date,TamilNadu.Cured,label=\"Cured\")\n",
        "plt.title(\"Relation between Infected , Recovered & Deceased personal of TamilNadu 2020 \")\n",
        "plt.xlabel(\"Months\")\n",
        "plt.ylabel(\"No of cases cases\")\n",
        "plt.xticks(TamilNadu.Date[0:110:15].tolist(),rotation=55)\n",
        "plt.legend()\n",
        "plt.show()"
      ]
    },
    {
      "cell_type": "code",
      "execution_count": 13,
      "metadata": {
        "colab": {
          "base_uri": "https://localhost:8080/",
          "height": 265
        },
        "id": "exuIWvPVu36H",
        "outputId": "ce8c1dd0-139f-4510-ad43-0933c615da18"
      },
      "outputs": [
        {
          "output_type": "display_data",
          "data": {
            "image/png": "[encoded data removed]",
            "text/plain": [
              "<Figure size 432x288 with 1 Axes>"
            ]
          },
          "metadata": {}
        }
      ],
      "source": [
        "infected = sum(TamilNadu[\"Confirmed\"])\n",
        "deceased = sum(TamilNadu[\"Deaths\"])\n",
        "recovered = sum(TamilNadu[\"Cured\"])\n",
        "\n",
        "labels = ['Infected', 'Recovered', 'Deceased']\n",
        "sizes = [infected, recovered, deceased]\n",
        "colors = ['lightcoral', 'yellowgreen', 'red']\n",
        "explode = (0, 0, 0) \n",
        "plt.pie(sizes, explode=explode, labels=labels, colors=colors, autopct='%1.1f%%', shadow=True)\n",
        "plt.title(\"Percentage distribution Of Covid-19 Infected, Recovered, Deceased from March till July 2020 of TamilNadu\")\n",
        "plt.axis('equal')\n",
        "plt.show()"
      ]
    },
    {
      "cell_type": "markdown",
      "metadata": {
        "id": "FSGsZNEZu36H"
      },
      "source": [
        "## Delhi analysis"
      ]
    },
    {
      "cell_type": "code",
      "execution_count": 14,
      "metadata": {
        "colab": {
          "base_uri": "https://localhost:8080/"
        },
        "id": "KH_CL91Lu36I",
        "outputId": "0fd5ed9b-5afe-4c70-a501-694816ae788f"
      },
      "outputs": [
        {
          "output_type": "execute_result",
          "data": {
            "text/plain": [
              "34      02/03/20\n",
              "535     01/04/20\n",
              "1485    01/05/20\n",
              "2494    31/05/20\n",
              "3575    30/06/20\n",
              "Name: Date, dtype: object"
            ]
          },
          "metadata": {},
          "execution_count": 14
        }
      ],
      "source": [
        "Delhi.Date[0:125:30]"
      ]
    },
    {
      "cell_type": "code",
      "execution_count": 15,
      "metadata": {
        "colab": {
          "base_uri": "https://localhost:8080/",
          "height": 332
        },
        "id": "-_giRZcru36I",
        "outputId": "369b4cb6-a460-4b3e-9578-ffdb30c6c71c"
      },
      "outputs": [
        {
          "output_type": "display_data",
          "data": {
            "image/png": "[encoded data removed]",
            "text/plain": [
              "<Figure size 432x288 with 1 Axes>"
            ]
          },
          "metadata": {}
        }
      ],
      "source": [
        "plt.style.use('ggplot')\n",
        "plt.plot(Delhi.Date,Delhi.Confirmed,label=\"Confirmed\")\n",
        "plt.plot(Delhi.Date,Delhi.Deaths,label=\"Deaths\")\n",
        "plt.plot(Delhi.Date,Delhi.Cured,label=\"Cured\")\n",
        "plt.title(\"Relation between Infected , Recovered & Deceased personal of Delhi 2020 \")\n",
        "plt.xlabel(\"Months\")\n",
        "plt.ylabel(\"No of cases cases\")\n",
        "plt.xticks(Delhi.Date[0:110:15].tolist(),rotation=55)\n",
        "plt.legend()\n",
        "plt.show()"
      ]
    },
    {
      "cell_type": "code",
      "execution_count": 16,
      "metadata": {
        "colab": {
          "base_uri": "https://localhost:8080/",
          "height": 265
        },
        "id": "0IXFxV-Gu36J",
        "outputId": "1bb9da63-d4e8-4fd0-a156-a31b2040e474"
      },
      "outputs": [
        {
          "output_type": "display_data",
          "data": {
            "image/png": "[encoded data removed]",
            "text/plain": [
              "<Figure size 432x288 with 1 Axes>"
            ]
          },
          "metadata": {}
        }
      ],
      "source": [
        "infected = sum(Delhi[\"Confirmed\"])\n",
        "deceased = sum(Delhi[\"Deaths\"])\n",
        "recovered = sum(Delhi[\"Cured\"])\n",
        "\n",
        "labels = ['Infected', 'Recovered', 'Deceased']\n",
        "sizes = [infected, recovered, deceased]\n",
        "colors = ['lightcoral', 'yellowgreen', 'red']\n",
        "explode = (0, 0, 0) \n",
        "plt.pie(sizes, explode=explode, labels=labels, colors=colors, autopct='%1.1f%%', shadow=True)\n",
        "plt.title(\"Percentage distribution Of Covid-19 Infected, Recovered, Deceased from March till July 2020 of Delhi\")\n",
        "plt.axis('equal')\n",
        "plt.show()"
      ]
    },
    {
      "cell_type": "markdown",
      "metadata": {
        "id": "gaivjc1Ru36J"
      },
      "source": [
        "## Gujarat analysis"
      ]
    },
    {
      "cell_type": "code",
      "execution_count": 17,
      "metadata": {
        "colab": {
          "base_uri": "https://localhost:8080/"
        },
        "id": "c1s-XxR7u36P",
        "outputId": "6d80ac88-d142-408c-ed50-4df50ef210db"
      },
      "outputs": [
        {
          "output_type": "execute_result",
          "data": {
            "text/plain": [
              "231     20/03/20\n",
              "1100    19/04/20\n",
              "2077    19/05/20\n",
              "3145    18/06/20\n",
              "Name: Date, dtype: object"
            ]
          },
          "metadata": {},
          "execution_count": 17
        }
      ],
      "source": [
        "Gujarat.Date[0:107:30]"
      ]
    },
    {
      "cell_type": "code",
      "execution_count": 18,
      "metadata": {
        "colab": {
          "base_uri": "https://localhost:8080/",
          "height": 332
        },
        "id": "lpTBt79ru36P",
        "outputId": "00d31549-6900-45e4-84f0-f86ab83b419b"
      },
      "outputs": [
        {
          "output_type": "display_data",
          "data": {
            "image/png": "[encoded data removed]",
            "text/plain": [
              "<Figure size 432x288 with 1 Axes>"
            ]
          },
          "metadata": {}
        }
      ],
      "source": [
        "plt.style.use('ggplot')\n",
        "plt.plot(Gujarat.Date,Gujarat.Confirmed,label=\"Confirmed\")\n",
        "plt.plot(Gujarat.Date,Gujarat.Deaths,label=\"Deaths\")\n",
        "plt.plot(Gujarat.Date,Gujarat.Cured,label=\"Cured\")\n",
        "plt.title(\"Relation between Infected , Recovered & Deceased personal of Delhi 2020 \")\n",
        "plt.xlabel(\"Months\")\n",
        "plt.ylabel(\"No of cases cases\")\n",
        "plt.xticks(Gujarat.Date[0:107:30].tolist(),rotation=55)\n",
        "plt.legend()\n",
        "plt.show()"
      ]
    },
    {
      "cell_type": "code",
      "execution_count": 19,
      "metadata": {
        "colab": {
          "base_uri": "https://localhost:8080/",
          "height": 266
        },
        "id": "DEyppfGuu36Q",
        "outputId": "eb04110d-6ae1-4c70-8df5-aee326a969c2"
      },
      "outputs": [
        {
          "output_type": "display_data",
          "data": {
            "image/png": "[encoded data removed]",
            "text/plain": [
              "<Figure size 432x288 with 1 Axes>"
            ]
          },
          "metadata": {}
        }
      ],
      "source": [
        "infected = sum(Gujarat[\"Confirmed\"])\n",
        "deceased = sum(Gujarat[\"Deaths\"])\n",
        "recovered = sum(Gujarat[\"Cured\"])\n",
        "\n",
        "labels = ['Infected', 'Recovered', 'Deceased']\n",
        "sizes = [infected, recovered, deceased]\n",
        "colors = ['lightcoral', 'yellowgreen', 'red']\n",
        "explode = (0, 0, 0) \n",
        "plt.pie(sizes, explode=explode, labels=labels, colors=colors, autopct='%1.1f%%', shadow=True)\n",
        "plt.title(\"Percentage distribution Of Covid-19 Infected, Recovered, Deceased from March till July 2020 of Gujarat\")\n",
        "plt.axis('equal')\n",
        "plt.show()"
      ]
    },
    {
      "cell_type": "markdown",
      "metadata": {
        "id": "QwXslP8Cu36Q"
      },
      "source": [
        "## UttarPradesh analysis"
      ]
    },
    {
      "cell_type": "code",
      "execution_count": 20,
      "metadata": {
        "colab": {
          "base_uri": "https://localhost:8080/"
        },
        "id": "FcLUBBw2u36Q",
        "outputId": "3351a97f-515a-49b7-b823-0e63332dcccc"
      },
      "outputs": [
        {
          "output_type": "execute_result",
          "data": {
            "text/plain": [
              "39      04/03/20\n",
              "615     03/04/20\n",
              "1572    03/05/20\n",
              "2591    02/06/20\n",
              "3672    02/07/20\n",
              "Name: Date, dtype: object"
            ]
          },
          "metadata": {},
          "execution_count": 20
        }
      ],
      "source": [
        "UttarPradesh.Date[0:123:30]"
      ]
    },
    {
      "cell_type": "code",
      "execution_count": null,
      "metadata": {
        "id": "yQKdlvyRu36R",
        "outputId": "dc78ed76-0106-41f3-dd61-4ff29955d1ef"
      },
      "outputs": [
        {
          "data": {
            "image/png": "[encoded data removed]",
            "text/plain": [
              "<Figure size 432x288 with 1 Axes>"
            ]
          },
          "metadata": {},
          "output_type": "display_data"
        }
      ],
      "source": [
        "plt.style.use('ggplot')\n",
        "plt.plot(UttarPradesh.Date,UttarPradesh.Confirmed,label=\"Confirmed\")\n",
        "plt.plot(UttarPradesh.Date,UttarPradesh.Deaths,label=\"Deaths\")\n",
        "plt.plot(UttarPradesh.Date,UttarPradesh.Cured,label=\"Cured\")\n",
        "plt.title(\"Relation between Infected , Recovered & Deceased personal of Delhi 2020 \")\n",
        "plt.xlabel(\"Months\")\n",
        "plt.ylabel(\"No of cases cases\")\n",
        "plt.xticks(UttarPradesh.Date[0:107:30].tolist(),rotation=55)\n",
        "plt.legend()\n",
        "plt.show()"
      ]
    },
    {
      "cell_type": "code",
      "execution_count": null,
      "metadata": {
        "id": "CBnEgpydu36R",
        "outputId": "ba4ddca1-8466-439e-bc1e-0bcf1319bda4"
      },
      "outputs": [
        {
          "data": {
            "image/png": "[encoded data removed]",
            "text/plain": [
              "<Figure size 432x288 with 1 Axes>"
            ]
          },
          "metadata": {},
          "output_type": "display_data"
        }
      ],
      "source": [
        "infected = sum(UttarPradesh[\"Confirmed\"])\n",
        "deceased = sum(UttarPradesh[\"Deaths\"])\n",
        "recovered = sum(UttarPradesh[\"Cured\"])\n",
        "\n",
        "labels = ['Infected', 'Recovered', 'Deceased']\n",
        "sizes = [infected, recovered, deceased]\n",
        "colors = ['lightcoral', 'yellowgreen', 'red']\n",
        "explode = (0, 0, 0) \n",
        "plt.pie(sizes, explode=explode, labels=labels, colors=colors, autopct='%1.1f%%', shadow=True)\n",
        "plt.title(\"Percentage distribution Of Covid-19 Infected, Recovered, Deceased from March till July 2020 of Gujarat\")\n",
        "plt.axis('equal')\n",
        "plt.show()"
      ]
    },
    {
      "cell_type": "markdown",
      "metadata": {
        "id": "Aq4GpTU7u36R"
      },
      "source": [
        "## Rajasthan analysis"
      ]
    },
    {
      "cell_type": "code",
      "execution_count": 21,
      "metadata": {
        "colab": {
          "base_uri": "https://localhost:8080/"
        },
        "id": "11JsKYXlu36S",
        "outputId": "1eafdd05-1fb3-4729-c3ae-415c3359b894"
      },
      "outputs": [
        {
          "output_type": "execute_result",
          "data": {
            "text/plain": [
              "36      03/03/20\n",
              "581     02/04/20\n",
              "1535    02/05/20\n",
              "2549    01/06/20\n",
              "3630    01/07/20\n",
              "Name: Date, dtype: object"
            ]
          },
          "metadata": {},
          "execution_count": 21
        }
      ],
      "source": [
        "Rajasthan.Date[0:124:30]"
      ]
    },
    {
      "cell_type": "code",
      "execution_count": 22,
      "metadata": {
        "colab": {
          "base_uri": "https://localhost:8080/",
          "height": 332
        },
        "id": "uPibHeASu36S",
        "outputId": "58ea3216-7e7c-4a74-db67-2e32d63ad8c6"
      },
      "outputs": [
        {
          "output_type": "display_data",
          "data": {
            "image/png": "[encoded data removed]",
            "text/plain": [
              "<Figure size 432x288 with 1 Axes>"
            ]
          },
          "metadata": {}
        }
      ],
      "source": [
        "plt.style.use('ggplot')\n",
        "plt.plot(Rajasthan.Date,Rajasthan.Confirmed,label=\"Confirmed\")\n",
        "plt.plot(Rajasthan.Date,Rajasthan.Deaths,label=\"Deaths\")\n",
        "plt.plot(Rajasthan.Date,Rajasthan.Cured,label=\"Cured\")\n",
        "plt.title(\"Relation between Infected , Recovered & Deceased personal of Delhi 2020 \")\n",
        "plt.xlabel(\"Months\")\n",
        "plt.ylabel(\"No of cases cases\")\n",
        "plt.xticks(Rajasthan.Date[0:107:30].tolist(),rotation=55)\n",
        "plt.legend()\n",
        "plt.show()"
      ]
    },
    {
      "cell_type": "code",
      "execution_count": 23,
      "metadata": {
        "colab": {
          "base_uri": "https://localhost:8080/",
          "height": 265
        },
        "id": "5YOCz69Xu36T",
        "outputId": "901ae80b-7475-46b9-81c3-f9cbcb611b3a"
      },
      "outputs": [
        {
          "output_type": "display_data",
          "data": {
            "image/png": "[encoded data removed]",
            "text/plain": [
              "<Figure size 432x288 with 1 Axes>"
            ]
          },
          "metadata": {}
        }
      ],
      "source": [
        "infected = sum(Rajasthan[\"Confirmed\"])\n",
        "deceased = sum(Rajasthan[\"Deaths\"])\n",
        "recovered = sum(Rajasthan[\"Cured\"])\n",
        "\n",
        "labels = ['Infected', 'Recovered', 'Deceased']\n",
        "sizes = [infected, recovered, deceased]\n",
        "colors = ['lightcoral', 'yellowgreen', 'red']\n",
        "explode = (0, 0, 0) \n",
        "plt.pie(sizes, explode=explode, labels=labels, colors=colors, autopct='%1.1f%%', shadow=True)\n",
        "plt.title(\"Percentage distribution Of Covid-19 Infected, Recovered, Deceased from March till July 2020 of Gujarat\")\n",
        "plt.axis('equal')\n",
        "plt.show()"
      ]
    },
    {
      "cell_type": "markdown",
      "metadata": {
        "id": "B6ReJFFHu36T"
      },
      "source": [
        "## Wasn't able to perform CMR & RR due to RuntimeWarning: invalid value encountered in long_scalars even after converting to ndarry"
      ]
    },
    {
      "cell_type": "markdown",
      "metadata": {
        "id": "aAVYysXnu36T"
      },
      "source": [
        "## B. Correlation heatmap for various parameters\n"
      ]
    },
    {
      "cell_type": "code",
      "execution_count": 24,
      "metadata": {
        "id": "tdObMLw9u36U"
      },
      "outputs": [],
      "source": [
        "data['Mortality Rate'] = (data['Confirmed']/data['Deaths']).round(2)"
      ]
    },
    {
      "cell_type": "code",
      "execution_count": 25,
      "metadata": {
        "id": "NERW59Kbu36U"
      },
      "outputs": [],
      "source": [
        "data['Recovery Rate'] = (data['Cured']/data['Confirmed']).round(2)"
      ]
    },
    {
      "cell_type": "code",
      "execution_count": 26,
      "metadata": {
        "scrolled": true,
        "colab": {
          "base_uri": "https://localhost:8080/",
          "height": 348
        },
        "id": "JknQa-FXu36U",
        "outputId": "c26dfc82-4a47-4647-f91a-62cfa4315893"
      },
      "outputs": [
        {
          "output_type": "execute_result",
          "data": {
            "text/plain": [
              "<matplotlib.axes._subplots.AxesSubplot at 0x7f8dbbf22dd0>"
            ]
          },
          "metadata": {},
          "execution_count": 26
        },
        {
          "output_type": "display_data",
          "data": {
            "image/png": "[encoded data removed]",
            "text/plain": [
              "<Figure size 432x288 with 2 Axes>"
            ]
          },
          "metadata": {}
        }
      ],
      "source": [
        "sns.heatmap(data.corr(),annot=True)"
      ]
    },
    {
      "cell_type": "markdown",
      "metadata": {
        "id": "-_WUkOgiu36V"
      },
      "source": [
        "## C. Build a model for predicting the confirmed and recovered on any dates past 15th July 2020\n"
      ]
    },
    {
      "cell_type": "code",
      "execution_count": 29,
      "metadata": {
        "id": "ZxXIdiWxu36V"
      },
      "outputs": [],
      "source": [
        "data1 = pd.read_csv('state.csv')"
      ]
    },
    {
      "cell_type": "code",
      "execution_count": 30,
      "metadata": {
        "colab": {
          "base_uri": "https://localhost:8080/"
        },
        "id": "u0kxs2ypu36V",
        "outputId": "e92934fc-65f8-4077-a2f9-e8aa42ed42a3"
      },
      "outputs": [
        {
          "output_type": "stream",
          "name": "stdout",
          "text": [
            "<class 'pandas.core.frame.DataFrame'>\n",
            "RangeIndex: 357 entries, 0 to 356\n",
            "Data columns (total 41 columns):\n",
            " #   Column  Non-Null Count  Dtype \n",
            "---  ------  --------------  ----- \n",
            " 0   Date    357 non-null    object\n",
            " 1   Status  357 non-null    object\n",
            " 2   TT      357 non-null    int64 \n",
            " 3   AN      357 non-null    int64 \n",
            " 4   AP      357 non-null    int64 \n",
            " 5   AR      357 non-null    int64 \n",
            " 6   AS      357 non-null    int64 \n",
            " 7   BR      357 non-null    int64 \n",
            " 8   CH      357 non-null    int64 \n",
            " 9   CT      357 non-null    int64 \n",
            " 10  DN      357 non-null    int64 \n",
            " 11  DD      357 non-null    int64 \n",
            " 12  DL      357 non-null    int64 \n",
            " 13  GA      357 non-null    int64 \n",
            " 14  GJ      357 non-null    int64 \n",
            " 15  HR      357 non-null    int64 \n",
            " 16  HP      357 non-null    int64 \n",
            " 17  JK      357 non-null    int64 \n",
            " 18  JH      357 non-null    int64 \n",
            " 19  KA      357 non-null    int64 \n",
            " 20  KL      357 non-null    int64 \n",
            " 21  LA      357 non-null    int64 \n",
            " 22  LD      357 non-null    int64 \n",
            " 23  MP      357 non-null    int64 \n",
            " 24  MH      357 non-null    int64 \n",
            " 25  MN      357 non-null    int64 \n",
            " 26  ML      357 non-null    int64 \n",
            " 27  MZ      357 non-null    int64 \n",
            " 28  NL      357 non-null    int64 \n",
            " 29  OR      357 non-null    int64 \n",
            " 30  PY      357 non-null    int64 \n",
            " 31  PB      357 non-null    int64 \n",
            " 32  RJ      357 non-null    int64 \n",
            " 33  SK      357 non-null    int64 \n",
            " 34  TN      357 non-null    int64 \n",
            " 35  TG      357 non-null    int64 \n",
            " 36  TR      357 non-null    int64 \n",
            " 37  UP      357 non-null    int64 \n",
            " 38  UT      357 non-null    int64 \n",
            " 39  WB      357 non-null    int64 \n",
            " 40  UN      357 non-null    int64 \n",
            "dtypes: int64(39), object(2)\n",
            "memory usage: 114.5+ KB\n"
          ]
        }
      ],
      "source": [
        "data1.info()"
      ]
    },
    {
      "cell_type": "code",
      "execution_count": 31,
      "metadata": {
        "colab": {
          "base_uri": "https://localhost:8080/",
          "height": 312
        },
        "id": "jWvp_MVtu36V",
        "outputId": "22feda86-a0d7-4ee5-ad7d-0d55e71f7b98"
      },
      "outputs": [
        {
          "output_type": "execute_result",
          "data": {
            "text/html": [
              "\n",
              "  <div id=\"df-798506b3-c6c2-4537-abec-17e98ae96d61\">\n",
              "    <div class=\"colab-df-container\">\n",
              "      <div>\n",
              "<style scoped>\n",
              "    .dataframe tbody tr th:only-of-type {\n",
              "        vertical-align: middle;\n",
              "    }\n",
              "\n",
              "    .dataframe tbody tr th {\n",
              "        vertical-align: top;\n",
              "    }\n",
              "\n",
              "    .dataframe thead th {\n",
              "        text-align: right;\n",
              "    }\n",
              "</style>\n",
              "<table border=\"1\" class=\"dataframe\">\n",
              "  <thead>\n",
              "    <tr style=\"text-align: right;\">\n",
              "      <th></th>\n",
              "      <th>Date</th>\n",
              "      <th>Status</th>\n",
              "      <th>TT</th>\n",
              "      <th>AN</th>\n",
              "      <th>AP</th>\n",
              "      <th>AR</th>\n",
              "      <th>AS</th>\n",
              "      <th>BR</th>\n",
              "      <th>CH</th>\n",
              "      <th>CT</th>\n",
              "      <th>DN</th>\n",
              "      <th>DD</th>\n",
              "      <th>DL</th>\n",
              "      <th>GA</th>\n",
              "      <th>GJ</th>\n",
              "      <th>HR</th>\n",
              "      <th>HP</th>\n",
              "      <th>JK</th>\n",
              "      <th>JH</th>\n",
              "      <th>KA</th>\n",
              "      <th>KL</th>\n",
              "      <th>LA</th>\n",
              "      <th>LD</th>\n",
              "      <th>MP</th>\n",
              "      <th>MH</th>\n",
              "      <th>MN</th>\n",
              "      <th>ML</th>\n",
              "      <th>MZ</th>\n",
              "      <th>NL</th>\n",
              "      <th>OR</th>\n",
              "      <th>PY</th>\n",
              "      <th>PB</th>\n",
              "      <th>RJ</th>\n",
              "      <th>SK</th>\n",
              "      <th>TN</th>\n",
              "      <th>TG</th>\n",
              "      <th>TR</th>\n",
              "      <th>UP</th>\n",
              "      <th>UT</th>\n",
              "      <th>WB</th>\n",
              "      <th>UN</th>\n",
              "    </tr>\n",
              "  </thead>\n",
              "  <tbody>\n",
              "    <tr>\n",
              "      <th>0</th>\n",
              "      <td>14-Mar-20</td>\n",
              "      <td>Confirmed</td>\n",
              "      <td>81</td>\n",
              "      <td>0</td>\n",
              "      <td>1</td>\n",
              "      <td>0</td>\n",
              "      <td>0</td>\n",
              "      <td>0</td>\n",
              "      <td>0</td>\n",
              "      <td>0</td>\n",
              "      <td>0</td>\n",
              "      <td>0</td>\n",
              "      <td>7</td>\n",
              "      <td>0</td>\n",
              "      <td>0</td>\n",
              "      <td>14</td>\n",
              "      <td>0</td>\n",
              "      <td>2</td>\n",
              "      <td>0</td>\n",
              "      <td>6</td>\n",
              "      <td>19</td>\n",
              "      <td>0</td>\n",
              "      <td>0</td>\n",
              "      <td>0</td>\n",
              "      <td>14</td>\n",
              "      <td>0</td>\n",
              "      <td>0</td>\n",
              "      <td>0</td>\n",
              "      <td>0</td>\n",
              "      <td>0</td>\n",
              "      <td>0</td>\n",
              "      <td>1</td>\n",
              "      <td>3</td>\n",
              "      <td>0</td>\n",
              "      <td>1</td>\n",
              "      <td>1</td>\n",
              "      <td>0</td>\n",
              "      <td>12</td>\n",
              "      <td>0</td>\n",
              "      <td>0</td>\n",
              "      <td>0</td>\n",
              "    </tr>\n",
              "    <tr>\n",
              "      <th>1</th>\n",
              "      <td>14-Mar-20</td>\n",
              "      <td>Recovered</td>\n",
              "      <td>9</td>\n",
              "      <td>0</td>\n",
              "      <td>0</td>\n",
              "      <td>0</td>\n",
              "      <td>0</td>\n",
              "      <td>0</td>\n",
              "      <td>0</td>\n",
              "      <td>0</td>\n",
              "      <td>0</td>\n",
              "      <td>0</td>\n",
              "      <td>1</td>\n",
              "      <td>0</td>\n",
              "      <td>0</td>\n",
              "      <td>0</td>\n",
              "      <td>0</td>\n",
              "      <td>0</td>\n",
              "      <td>0</td>\n",
              "      <td>0</td>\n",
              "      <td>3</td>\n",
              "      <td>0</td>\n",
              "      <td>0</td>\n",
              "      <td>0</td>\n",
              "      <td>0</td>\n",
              "      <td>0</td>\n",
              "      <td>0</td>\n",
              "      <td>0</td>\n",
              "      <td>0</td>\n",
              "      <td>0</td>\n",
              "      <td>0</td>\n",
              "      <td>0</td>\n",
              "      <td>1</td>\n",
              "      <td>0</td>\n",
              "      <td>0</td>\n",
              "      <td>0</td>\n",
              "      <td>0</td>\n",
              "      <td>4</td>\n",
              "      <td>0</td>\n",
              "      <td>0</td>\n",
              "      <td>0</td>\n",
              "    </tr>\n",
              "    <tr>\n",
              "      <th>2</th>\n",
              "      <td>14-Mar-20</td>\n",
              "      <td>Deceased</td>\n",
              "      <td>2</td>\n",
              "      <td>0</td>\n",
              "      <td>0</td>\n",
              "      <td>0</td>\n",
              "      <td>0</td>\n",
              "      <td>0</td>\n",
              "      <td>0</td>\n",
              "      <td>0</td>\n",
              "      <td>0</td>\n",
              "      <td>0</td>\n",
              "      <td>1</td>\n",
              "      <td>0</td>\n",
              "      <td>0</td>\n",
              "      <td>0</td>\n",
              "      <td>0</td>\n",
              "      <td>0</td>\n",
              "      <td>0</td>\n",
              "      <td>1</td>\n",
              "      <td>0</td>\n",
              "      <td>0</td>\n",
              "      <td>0</td>\n",
              "      <td>0</td>\n",
              "      <td>0</td>\n",
              "      <td>0</td>\n",
              "      <td>0</td>\n",
              "      <td>0</td>\n",
              "      <td>0</td>\n",
              "      <td>0</td>\n",
              "      <td>0</td>\n",
              "      <td>0</td>\n",
              "      <td>0</td>\n",
              "      <td>0</td>\n",
              "      <td>0</td>\n",
              "      <td>0</td>\n",
              "      <td>0</td>\n",
              "      <td>0</td>\n",
              "      <td>0</td>\n",
              "      <td>0</td>\n",
              "      <td>0</td>\n",
              "    </tr>\n",
              "  </tbody>\n",
              "</table>\n",
              "</div>\n",
              "      <button class=\"colab-df-convert\" onclick=\"convertToInteractive('df-798506b3-c6c2-4537-abec-17e98ae96d61')\"\n",
              "              title=\"Convert this dataframe to an interactive table.\"\n",
              "              style=\"display:none;\">\n",
              "        \n",
              "  <svg xmlns=\"http://www.w3.org/2000/svg\" height=\"24px\"viewBox=\"0 0 24 24\"\n",
              "       width=\"24px\">\n",
              "    <path d=\"M0 0h24v24H0V0z\" fill=\"none\"/>\n",
              "    <path d=\"M18.56 5.44l.94 2.06.94-2.06 2.06-.94-2.06-.94-.94-2.06-.94 2.06-2.06.94zm-11 1L8.5 8.5l.94-2.06 2.06-.94-2.06-.94L8.5 2.5l-.94 2.06-2.06.94zm10 10l.94 2.06.94-2.06 2.06-.94-2.06-.94-.94-2.06-.94 2.06-2.06.94z\"/><path d=\"M17.41 7.96l-1.37-1.37c-.4-.4-.92-.59-1.43-.59-.52 0-1.04.2-1.43.59L10.3 9.45l-7.72 7.72c-.78.78-.78 2.05 0 2.83L4 21.41c.39.39.9.59 1.41.59.51 0 1.02-.2 1.41-.59l7.78-7.78 2.81-2.81c.8-.78.8-2.07 0-2.86zM5.41 20L4 18.59l7.72-7.72 1.47 1.35L5.41 20z\"/>\n",
              "  </svg>\n",
              "      </button>\n",
              "      \n",
              "  <style>\n",
              "    .colab-df-container {\n",
              "      display:flex;\n",
              "      flex-wrap:wrap;\n",
              "      gap: 12px;\n",
              "    }\n",
              "\n",
              "    .colab-df-convert {\n",
              "      background-color: #E8F0FE;\n",
              "      border: none;\n",
              "      border-radius: 50%;\n",
              "      cursor: pointer;\n",
              "      display: none;\n",
              "      fill: #1967D2;\n",
              "      height: 32px;\n",
              "      padding: 0 0 0 0;\n",
              "      width: 32px;\n",
              "    }\n",
              "\n",
              "    .colab-df-convert:hover {\n",
              "      background-color: #E2EBFA;\n",
              "      box-shadow: 0px 1px 2px rgba(60, 64, 67, 0.3), 0px 1px 3px 1px rgba(60, 64, 67, 0.15);\n",
              "      fill: #174EA6;\n",
              "    }\n",
              "\n",
              "    [theme=dark] .colab-df-convert {\n",
              "      background-color: #3B4455;\n",
              "      fill: #D2E3FC;\n",
              "    }\n",
              "\n",
              "    [theme=dark] .colab-df-convert:hover {\n",
              "      background-color: #434B5C;\n",
              "      box-shadow: 0px 1px 3px 1px rgba(0, 0, 0, 0.15);\n",
              "      filter: drop-shadow(0px 1px 2px rgba(0, 0, 0, 0.3));\n",
              "      fill: #FFFFFF;\n",
              "    }\n",
              "  </style>\n",
              "\n",
              "      <script>\n",
              "        const buttonEl =\n",
              "          document.querySelector('#df-798506b3-c6c2-4537-abec-17e98ae96d61 button.colab-df-convert');\n",
              "        buttonEl.style.display =\n",
              "          google.colab.kernel.accessAllowed ? 'block' : 'none';\n",
              "\n",
              "        async function convertToInteractive(key) {\n",
              "          const element = document.querySelector('#df-798506b3-c6c2-4537-abec-17e98ae96d61');\n",
              "          const dataTable =\n",
              "            await google.colab.kernel.invokeFunction('convertToInteractive',\n",
              "                                                     [key], {});\n",
              "          if (!dataTable) return;\n",
              "\n",
              "          const docLinkHtml = 'Like what you see? Visit the ' +\n",
              "            '<a target=\"_blank\" href=https://colab.research.google.com/notebooks/data_table.ipynb>data table notebook</a>'\n",
              "            + ' to learn more about interactive tables.';\n",
              "          element.innerHTML = '';\n",
              "          dataTable['output_type'] = 'display_data';\n",
              "          await google.colab.output.renderOutput(dataTable, element);\n",
              "          const docLink = document.createElement('div');\n",
              "          docLink.innerHTML = docLinkHtml;\n",
              "          element.appendChild(docLink);\n",
              "        }\n",
              "      </script>\n",
              "    </div>\n",
              "  </div>\n",
              "  "
            ],
            "text/plain": [
              "        Date     Status  TT  AN  AP  AR  AS  BR  ...  SK  TN  TG  TR  UP  UT  WB  UN\n",
              "0  14-Mar-20  Confirmed  81   0   1   0   0   0  ...   0   1   1   0  12   0   0   0\n",
              "1  14-Mar-20  Recovered   9   0   0   0   0   0  ...   0   0   0   0   4   0   0   0\n",
              "2  14-Mar-20   Deceased   2   0   0   0   0   0  ...   0   0   0   0   0   0   0   0\n",
              "\n",
              "[3 rows x 41 columns]"
            ]
          },
          "metadata": {},
          "execution_count": 31
        }
      ],
      "source": [
        "data1.head(3)"
      ]
    },
    {
      "cell_type": "code",
      "execution_count": 32,
      "metadata": {
        "colab": {
          "base_uri": "https://localhost:8080/"
        },
        "id": "FbC-lBLNu36W",
        "outputId": "c0291f41-f926-4e92-e81f-f67af0734936"
      },
      "outputs": [
        {
          "output_type": "execute_result",
          "data": {
            "text/plain": [
              "array(['Confirmed', 'Recovered', 'Deceased'], dtype=object)"
            ]
          },
          "metadata": {},
          "execution_count": 32
        }
      ],
      "source": [
        "data1['Status'].unique()"
      ]
    },
    {
      "cell_type": "code",
      "execution_count": 33,
      "metadata": {
        "id": "iI9yYhiXu36W"
      },
      "outputs": [],
      "source": [
        "data1['Status'] = data1['Status'].replace(\"Confirmed\", \"0\")\n",
        "data1['Status'] = data1['Status'].replace(\"Recovered\", \"1\")\n",
        "data1['Status'] = data1['Status'].replace(\"Deceased\", \"2\")"
      ]
    },
    {
      "cell_type": "code",
      "execution_count": 34,
      "metadata": {
        "colab": {
          "base_uri": "https://localhost:8080/",
          "height": 312
        },
        "id": "jomupOXAu36W",
        "outputId": "454293e9-9470-4208-dfc1-379e007621be"
      },
      "outputs": [
        {
          "output_type": "execute_result",
          "data": {
            "text/html": [
              "\n",
              "  <div id=\"df-b6a39a28-7c8d-4f70-bc73-9cdc81a35c5d\">\n",
              "    <div class=\"colab-df-container\">\n",
              "      <div>\n",
              "<style scoped>\n",
              "    .dataframe tbody tr th:only-of-type {\n",
              "        vertical-align: middle;\n",
              "    }\n",
              "\n",
              "    .dataframe tbody tr th {\n",
              "        vertical-align: top;\n",
              "    }\n",
              "\n",
              "    .dataframe thead th {\n",
              "        text-align: right;\n",
              "    }\n",
              "</style>\n",
              "<table border=\"1\" class=\"dataframe\">\n",
              "  <thead>\n",
              "    <tr style=\"text-align: right;\">\n",
              "      <th></th>\n",
              "      <th>Date</th>\n",
              "      <th>Status</th>\n",
              "      <th>TT</th>\n",
              "      <th>AN</th>\n",
              "      <th>AP</th>\n",
              "      <th>AR</th>\n",
              "      <th>AS</th>\n",
              "      <th>BR</th>\n",
              "      <th>CH</th>\n",
              "      <th>CT</th>\n",
              "      <th>DN</th>\n",
              "      <th>DD</th>\n",
              "      <th>DL</th>\n",
              "      <th>GA</th>\n",
              "      <th>GJ</th>\n",
              "      <th>HR</th>\n",
              "      <th>HP</th>\n",
              "      <th>JK</th>\n",
              "      <th>JH</th>\n",
              "      <th>KA</th>\n",
              "      <th>KL</th>\n",
              "      <th>LA</th>\n",
              "      <th>LD</th>\n",
              "      <th>MP</th>\n",
              "      <th>MH</th>\n",
              "      <th>MN</th>\n",
              "      <th>ML</th>\n",
              "      <th>MZ</th>\n",
              "      <th>NL</th>\n",
              "      <th>OR</th>\n",
              "      <th>PY</th>\n",
              "      <th>PB</th>\n",
              "      <th>RJ</th>\n",
              "      <th>SK</th>\n",
              "      <th>TN</th>\n",
              "      <th>TG</th>\n",
              "      <th>TR</th>\n",
              "      <th>UP</th>\n",
              "      <th>UT</th>\n",
              "      <th>WB</th>\n",
              "      <th>UN</th>\n",
              "    </tr>\n",
              "  </thead>\n",
              "  <tbody>\n",
              "    <tr>\n",
              "      <th>0</th>\n",
              "      <td>14-Mar-20</td>\n",
              "      <td>0</td>\n",
              "      <td>81</td>\n",
              "      <td>0</td>\n",
              "      <td>1</td>\n",
              "      <td>0</td>\n",
              "      <td>0</td>\n",
              "      <td>0</td>\n",
              "      <td>0</td>\n",
              "      <td>0</td>\n",
              "      <td>0</td>\n",
              "      <td>0</td>\n",
              "      <td>7</td>\n",
              "      <td>0</td>\n",
              "      <td>0</td>\n",
              "      <td>14</td>\n",
              "      <td>0</td>\n",
              "      <td>2</td>\n",
              "      <td>0</td>\n",
              "      <td>6</td>\n",
              "      <td>19</td>\n",
              "      <td>0</td>\n",
              "      <td>0</td>\n",
              "      <td>0</td>\n",
              "      <td>14</td>\n",
              "      <td>0</td>\n",
              "      <td>0</td>\n",
              "      <td>0</td>\n",
              "      <td>0</td>\n",
              "      <td>0</td>\n",
              "      <td>0</td>\n",
              "      <td>1</td>\n",
              "      <td>3</td>\n",
              "      <td>0</td>\n",
              "      <td>1</td>\n",
              "      <td>1</td>\n",
              "      <td>0</td>\n",
              "      <td>12</td>\n",
              "      <td>0</td>\n",
              "      <td>0</td>\n",
              "      <td>0</td>\n",
              "    </tr>\n",
              "    <tr>\n",
              "      <th>1</th>\n",
              "      <td>14-Mar-20</td>\n",
              "      <td>1</td>\n",
              "      <td>9</td>\n",
              "      <td>0</td>\n",
              "      <td>0</td>\n",
              "      <td>0</td>\n",
              "      <td>0</td>\n",
              "      <td>0</td>\n",
              "      <td>0</td>\n",
              "      <td>0</td>\n",
              "      <td>0</td>\n",
              "      <td>0</td>\n",
              "      <td>1</td>\n",
              "      <td>0</td>\n",
              "      <td>0</td>\n",
              "      <td>0</td>\n",
              "      <td>0</td>\n",
              "      <td>0</td>\n",
              "      <td>0</td>\n",
              "      <td>0</td>\n",
              "      <td>3</td>\n",
              "      <td>0</td>\n",
              "      <td>0</td>\n",
              "      <td>0</td>\n",
              "      <td>0</td>\n",
              "      <td>0</td>\n",
              "      <td>0</td>\n",
              "      <td>0</td>\n",
              "      <td>0</td>\n",
              "      <td>0</td>\n",
              "      <td>0</td>\n",
              "      <td>0</td>\n",
              "      <td>1</td>\n",
              "      <td>0</td>\n",
              "      <td>0</td>\n",
              "      <td>0</td>\n",
              "      <td>0</td>\n",
              "      <td>4</td>\n",
              "      <td>0</td>\n",
              "      <td>0</td>\n",
              "      <td>0</td>\n",
              "    </tr>\n",
              "    <tr>\n",
              "      <th>2</th>\n",
              "      <td>14-Mar-20</td>\n",
              "      <td>2</td>\n",
              "      <td>2</td>\n",
              "      <td>0</td>\n",
              "      <td>0</td>\n",
              "      <td>0</td>\n",
              "      <td>0</td>\n",
              "      <td>0</td>\n",
              "      <td>0</td>\n",
              "      <td>0</td>\n",
              "      <td>0</td>\n",
              "      <td>0</td>\n",
              "      <td>1</td>\n",
              "      <td>0</td>\n",
              "      <td>0</td>\n",
              "      <td>0</td>\n",
              "      <td>0</td>\n",
              "      <td>0</td>\n",
              "      <td>0</td>\n",
              "      <td>1</td>\n",
              "      <td>0</td>\n",
              "      <td>0</td>\n",
              "      <td>0</td>\n",
              "      <td>0</td>\n",
              "      <td>0</td>\n",
              "      <td>0</td>\n",
              "      <td>0</td>\n",
              "      <td>0</td>\n",
              "      <td>0</td>\n",
              "      <td>0</td>\n",
              "      <td>0</td>\n",
              "      <td>0</td>\n",
              "      <td>0</td>\n",
              "      <td>0</td>\n",
              "      <td>0</td>\n",
              "      <td>0</td>\n",
              "      <td>0</td>\n",
              "      <td>0</td>\n",
              "      <td>0</td>\n",
              "      <td>0</td>\n",
              "      <td>0</td>\n",
              "    </tr>\n",
              "  </tbody>\n",
              "</table>\n",
              "</div>\n",
              "      <button class=\"colab-df-convert\" onclick=\"convertToInteractive('df-b6a39a28-7c8d-4f70-bc73-9cdc81a35c5d')\"\n",
              "              title=\"Convert this dataframe to an interactive table.\"\n",
              "              style=\"display:none;\">\n",
              "        \n",
              "  <svg xmlns=\"http://www.w3.org/2000/svg\" height=\"24px\"viewBox=\"0 0 24 24\"\n",
              "       width=\"24px\">\n",
              "    <path d=\"M0 0h24v24H0V0z\" fill=\"none\"/>\n",
              "    <path d=\"M18.56 5.44l.94 2.06.94-2.06 2.06-.94-2.06-.94-.94-2.06-.94 2.06-2.06.94zm-11 1L8.5 8.5l.94-2.06 2.06-.94-2.06-.94L8.5 2.5l-.94 2.06-2.06.94zm10 10l.94 2.06.94-2.06 2.06-.94-2.06-.94-.94-2.06-.94 2.06-2.06.94z\"/><path d=\"M17.41 7.96l-1.37-1.37c-.4-.4-.92-.59-1.43-.59-.52 0-1.04.2-1.43.59L10.3 9.45l-7.72 7.72c-.78.78-.78 2.05 0 2.83L4 21.41c.39.39.9.59 1.41.59.51 0 1.02-.2 1.41-.59l7.78-7.78 2.81-2.81c.8-.78.8-2.07 0-2.86zM5.41 20L4 18.59l7.72-7.72 1.47 1.35L5.41 20z\"/>\n",
              "  </svg>\n",
              "      </button>\n",
              "      \n",
              "  <style>\n",
              "    .colab-df-container {\n",
              "      display:flex;\n",
              "      flex-wrap:wrap;\n",
              "      gap: 12px;\n",
              "    }\n",
              "\n",
              "    .colab-df-convert {\n",
              "      background-color: #E8F0FE;\n",
              "      border: none;\n",
              "      border-radius: 50%;\n",
              "      cursor: pointer;\n",
              "      display: none;\n",
              "      fill: #1967D2;\n",
              "      height: 32px;\n",
              "      padding: 0 0 0 0;\n",
              "      width: 32px;\n",
              "    }\n",
              "\n",
              "    .colab-df-convert:hover {\n",
              "      background-color: #E2EBFA;\n",
              "      box-shadow: 0px 1px 2px rgba(60, 64, 67, 0.3), 0px 1px 3px 1px rgba(60, 64, 67, 0.15);\n",
              "      fill: #174EA6;\n",
              "    }\n",
              "\n",
              "    [theme=dark] .colab-df-convert {\n",
              "      background-color: #3B4455;\n",
              "      fill: #D2E3FC;\n",
              "    }\n",
              "\n",
              "    [theme=dark] .colab-df-convert:hover {\n",
              "      background-color: #434B5C;\n",
              "      box-shadow: 0px 1px 3px 1px rgba(0, 0, 0, 0.15);\n",
              "      filter: drop-shadow(0px 1px 2px rgba(0, 0, 0, 0.3));\n",
              "      fill: #FFFFFF;\n",
              "    }\n",
              "  </style>\n",
              "\n",
              "      <script>\n",
              "        const buttonEl =\n",
              "          document.querySelector('#df-b6a39a28-7c8d-4f70-bc73-9cdc81a35c5d button.colab-df-convert');\n",
              "        buttonEl.style.display =\n",
              "          google.colab.kernel.accessAllowed ? 'block' : 'none';\n",
              "\n",
              "        async function convertToInteractive(key) {\n",
              "          const element = document.querySelector('#df-b6a39a28-7c8d-4f70-bc73-9cdc81a35c5d');\n",
              "          const dataTable =\n",
              "            await google.colab.kernel.invokeFunction('convertToInteractive',\n",
              "                                                     [key], {});\n",
              "          if (!dataTable) return;\n",
              "\n",
              "          const docLinkHtml = 'Like what you see? Visit the ' +\n",
              "            '<a target=\"_blank\" href=https://colab.research.google.com/notebooks/data_table.ipynb>data table notebook</a>'\n",
              "            + ' to learn more about interactive tables.';\n",
              "          element.innerHTML = '';\n",
              "          dataTable['output_type'] = 'display_data';\n",
              "          await google.colab.output.renderOutput(dataTable, element);\n",
              "          const docLink = document.createElement('div');\n",
              "          docLink.innerHTML = docLinkHtml;\n",
              "          element.appendChild(docLink);\n",
              "        }\n",
              "      </script>\n",
              "    </div>\n",
              "  </div>\n",
              "  "
            ],
            "text/plain": [
              "        Date Status  TT  AN  AP  AR  AS  BR  ...  SK  TN  TG  TR  UP  UT  WB  UN\n",
              "0  14-Mar-20      0  81   0   1   0   0   0  ...   0   1   1   0  12   0   0   0\n",
              "1  14-Mar-20      1   9   0   0   0   0   0  ...   0   0   0   0   4   0   0   0\n",
              "2  14-Mar-20      2   2   0   0   0   0   0  ...   0   0   0   0   0   0   0   0\n",
              "\n",
              "[3 rows x 41 columns]"
            ]
          },
          "metadata": {},
          "execution_count": 34
        }
      ],
      "source": [
        "data1.head(3)"
      ]
    },
    {
      "cell_type": "code",
      "execution_count": 35,
      "metadata": {
        "id": "x0TVtypau36W"
      },
      "outputs": [],
      "source": [
        "data1.drop(columns=['Date'],inplace=True)"
      ]
    },
    {
      "cell_type": "markdown",
      "metadata": {
        "id": "pNayaEDMu36X"
      },
      "source": [
        "### separating Independent & dependent col"
      ]
    },
    {
      "cell_type": "code",
      "execution_count": 44,
      "metadata": {
        "colab": {
          "base_uri": "https://localhost:8080/"
        },
        "id": "FKIGwZ6Au36X",
        "outputId": "dcaf80fb-6aed-40b9-90f6-f08fcb2293d5"
      },
      "outputs": [
        {
          "output_type": "execute_result",
          "data": {
            "text/plain": [
              "Index(['Status', 'TT', 'AN', 'AP', 'AR', 'AS', 'BR', 'CH', 'CT', 'DN', 'DD',\n",
              "       'DL', 'GA', 'GJ', 'HR', 'HP', 'JK', 'JH', 'KA', 'KL', 'LA', 'LD', 'MP',\n",
              "       'MH', 'MN', 'ML', 'MZ', 'NL', 'OR', 'PY', 'PB', 'RJ', 'SK', 'TN', 'TG',\n",
              "       'TR', 'UP', 'UT', 'WB', 'UN'],\n",
              "      dtype='object')"
            ]
          },
          "metadata": {},
          "execution_count": 44
        }
      ],
      "source": [
        "data1.columns "
      ]
    },
    {
      "cell_type": "code",
      "execution_count": 45,
      "metadata": {
        "colab": {
          "base_uri": "https://localhost:8080/"
        },
        "id": "UY3p2pbyu36X",
        "outputId": "0bdd2281-8525-477d-9d93-02a7a4e769be"
      },
      "outputs": [
        {
          "output_type": "execute_result",
          "data": {
            "text/plain": [
              "array([[81,  0,  1,  0,  0,  0,  0,  0,  0,  0,  7,  0,  0, 14,  0,  2,\n",
              "         0,  6, 19,  0,  0,  0, 14,  0,  0,  0,  0,  0,  0,  1,  3,  0,\n",
              "         1,  1,  0, 12,  0,  0,  0],\n",
              "       [ 9,  0,  0,  0,  0,  0,  0,  0,  0,  0,  1,  0,  0,  0,  0,  0,\n",
              "         0,  0,  3,  0,  0,  0,  0,  0,  0,  0,  0,  0,  0,  0,  1,  0,\n",
              "         0,  0,  0,  4,  0,  0,  0],\n",
              "       [ 2,  0,  0,  0,  0,  0,  0,  0,  0,  0,  1,  0,  0,  0,  0,  0,\n",
              "         0,  1,  0,  0,  0,  0,  0,  0,  0,  0,  0,  0,  0,  0,  0,  0,\n",
              "         0,  0,  0,  0,  0,  0,  0],\n",
              "       [27,  0,  0,  0,  0,  0,  0,  0,  0,  0,  0,  0,  0,  0,  0,  0,\n",
              "         0,  0,  5,  0,  0,  0, 18,  0,  0,  0,  0,  0,  0,  0,  1,  0,\n",
              "         0,  2,  0,  1,  0,  0,  0],\n",
              "       [ 4,  0,  0,  0,  0,  0,  0,  0,  0,  0,  1,  0,  0,  0,  0,  0,\n",
              "         0,  0,  0,  0,  0,  0,  0,  0,  0,  0,  0,  0,  0,  0,  2,  0,\n",
              "         0,  1,  0,  0,  0,  0,  0]])"
            ]
          },
          "metadata": {},
          "execution_count": 45
        }
      ],
      "source": [
        "x = data1[['TT', 'AN', 'AP', 'AR', 'AS', 'BR', 'CH', 'CT', 'DN', 'DD',\n",
        "       'DL', 'GA', 'GJ', 'HR', 'HP', 'JK', 'JH', 'KA', 'KL', 'LA', 'LD', 'MP',\n",
        "       'MH', 'MN', 'ML', 'MZ', 'NL', 'OR', 'PY', 'PB', 'RJ', 'SK', 'TN', 'TG',\n",
        "       'TR', 'UP', 'UT', 'WB', 'UN']] .values  \n",
        "x[0:5]"
      ]
    },
    {
      "cell_type": "code",
      "execution_count": 46,
      "metadata": {
        "colab": {
          "base_uri": "https://localhost:8080/"
        },
        "id": "BOlvireJu36X",
        "outputId": "a1b0f1ad-46aa-4b86-a467-a4255ea4fb6a"
      },
      "outputs": [
        {
          "output_type": "execute_result",
          "data": {
            "text/plain": [
              "array(['0', '1', '2', '0', '1'], dtype=object)"
            ]
          },
          "metadata": {},
          "execution_count": 46
        }
      ],
      "source": [
        "y = data1['Status'].values\n",
        "y[0:5]"
      ]
    },
    {
      "cell_type": "code",
      "execution_count": 47,
      "metadata": {
        "colab": {
          "base_uri": "https://localhost:8080/"
        },
        "id": "u91Yqd3Tu36Y",
        "outputId": "f4ffacbf-f5b3-4de6-d2b2-96e704e55071"
      },
      "outputs": [
        {
          "output_type": "execute_result",
          "data": {
            "text/plain": [
              "array([[-0.62373706, -0.32453617, -0.44654347, -0.3046312 , -0.44017774,\n",
              "        -0.59830945, -0.38957995, -0.51589193, -0.33299692,  0.        ,\n",
              "        -0.53463575, -0.41722886, -0.84237264, -0.47057974, -0.56162429,\n",
              "        -0.56587247, -0.49814426, -0.37589416, -0.19824055, -0.27835396,\n",
              "         0.        , -0.86965095, -0.63352822, -0.38689116, -0.15703169,\n",
              "        -0.21667963, -0.32872659, -0.51703245, -0.38309254, -0.45232962,\n",
              "        -0.77834302, -0.18133977, -0.56689176, -0.39150599, -0.40630124,\n",
              "        -0.5969535 , -0.5071805 , -0.60619091, -0.05991803],\n",
              "       [-0.63577367, -0.32453617, -0.45067867, -0.3046312 , -0.44017774,\n",
              "        -0.59830945, -0.38957995, -0.51589193, -0.33299692,  0.        ,\n",
              "        -0.54051953, -0.41722886, -0.84237264, -0.54864266, -0.56162429,\n",
              "        -0.59259599, -0.49814426, -0.39352771, -0.48020021, -0.27835396,\n",
              "         0.        , -0.86965095, -0.64194987, -0.38689116, -0.15703169,\n",
              "        -0.21667963, -0.32872659, -0.51703245, -0.38309254, -0.46556148,\n",
              "        -0.79216045, -0.18133977, -0.56783721, -0.39422462, -0.40630124,\n",
              "        -0.62968212, -0.5071805 , -0.60619091, -0.05991803],\n",
              "       [-0.63694389, -0.32453617, -0.45067867, -0.3046312 , -0.44017774,\n",
              "        -0.59830945, -0.38957995, -0.51589193, -0.33299692,  0.        ,\n",
              "        -0.54051953, -0.41722886, -0.84237264, -0.54864266, -0.56162429,\n",
              "        -0.59259599, -0.49814426, -0.39058878, -0.53306765, -0.27835396,\n",
              "         0.        , -0.86965095, -0.64194987, -0.38689116, -0.15703169,\n",
              "        -0.21667963, -0.32872659, -0.51703245, -0.38309254, -0.46556148,\n",
              "        -0.79906916, -0.18133977, -0.56783721, -0.39422462, -0.40630124,\n",
              "        -0.64604643, -0.5071805 , -0.60619091, -0.05991803],\n",
              "       [-0.63276452, -0.32453617, -0.45067867, -0.3046312 , -0.44017774,\n",
              "        -0.59830945, -0.38957995, -0.51589193, -0.33299692,  0.        ,\n",
              "        -0.54150016, -0.41722886, -0.84237264, -0.54864266, -0.56162429,\n",
              "        -0.59259599, -0.49814426, -0.39352771, -0.44495525, -0.27835396,\n",
              "         0.        , -0.86965095, -0.63112203, -0.38689116, -0.15703169,\n",
              "        -0.21667963, -0.32872659, -0.51703245, -0.38309254, -0.46556148,\n",
              "        -0.79216045, -0.18133977, -0.56783721, -0.38878736, -0.40630124,\n",
              "        -0.64195535, -0.5071805 , -0.60619091, -0.05991803],\n",
              "       [-0.63660954, -0.32453617, -0.45067867, -0.3046312 , -0.44017774,\n",
              "        -0.59830945, -0.38957995, -0.51589193, -0.33299692,  0.        ,\n",
              "        -0.54051953, -0.41722886, -0.84237264, -0.54864266, -0.56162429,\n",
              "        -0.59259599, -0.49814426, -0.39352771, -0.53306765, -0.27835396,\n",
              "         0.        , -0.86965095, -0.64194987, -0.38689116, -0.15703169,\n",
              "        -0.21667963, -0.32872659, -0.51703245, -0.38309254, -0.46556148,\n",
              "        -0.78525174, -0.18133977, -0.56783721, -0.39150599, -0.40630124,\n",
              "        -0.64604643, -0.5071805 , -0.60619091, -0.05991803]])"
            ]
          },
          "metadata": {},
          "execution_count": 47
        }
      ],
      "source": [
        "x = preprocessing.StandardScaler().fit(x).transform(x.astype(float))\n",
        "x[0:5]  #standardization of data"
      ]
    },
    {
      "cell_type": "code",
      "execution_count": 48,
      "metadata": {
        "colab": {
          "base_uri": "https://localhost:8080/"
        },
        "id": "bs6uUBWNu36Y",
        "outputId": "abdb00c5-8ac7-4292-f695-219e758e7855"
      },
      "outputs": [
        {
          "output_type": "stream",
          "name": "stdout",
          "text": [
            "Train set: (285, 39) (285,)\n",
            "Test set: (72, 39) (72,)\n"
          ]
        }
      ],
      "source": [
        "x_train, x_test, y_train, y_test = train_test_split( x, y, test_size=0.2, random_state=2)\n",
        "print ('Train set:', x_train.shape,  y_train.shape)\n",
        "print ('Test set:', x_test.shape,  y_test.shape) #trainning model and predicting "
      ]
    },
    {
      "cell_type": "code",
      "execution_count": 49,
      "metadata": {
        "colab": {
          "base_uri": "https://localhost:8080/"
        },
        "id": "GI6rx2bVu36Y",
        "outputId": "f1948686-be77-4f18-ccb8-845db521ab8d"
      },
      "outputs": [
        {
          "output_type": "execute_result",
          "data": {
            "text/plain": [
              "KNeighborsClassifier(n_neighbors=3)"
            ]
          },
          "metadata": {},
          "execution_count": 49
        }
      ],
      "source": [
        "k = 3\n",
        "neigh = KNeighborsClassifier(n_neighbors = k).fit(x_train,y_train)\n",
        "neigh"
      ]
    },
    {
      "cell_type": "code",
      "execution_count": 50,
      "metadata": {
        "colab": {
          "base_uri": "https://localhost:8080/"
        },
        "id": "wLbn2tYwu36Y",
        "outputId": "692709e5-f2b5-40b0-c3f4-68a4591c84f9"
      },
      "outputs": [
        {
          "output_type": "execute_result",
          "data": {
            "text/plain": [
              "array(['2', '2', '2', '2', '1'], dtype=object)"
            ]
          },
          "metadata": {},
          "execution_count": 50
        }
      ],
      "source": [
        "yhat = neigh.predict(x_test)  \n",
        "yhat[0:5]"
      ]
    },
    {
      "cell_type": "code",
      "execution_count": 51,
      "metadata": {
        "colab": {
          "base_uri": "https://localhost:8080/"
        },
        "id": "HAIS9gVsu36Y",
        "outputId": "0b4909e2-22d5-45ea-bf0a-d1e0f62a2717"
      },
      "outputs": [
        {
          "output_type": "stream",
          "name": "stdout",
          "text": [
            "Model accuracy is 0.69\n"
          ]
        }
      ],
      "source": [
        "score = neigh.score(x_test, y_test)\n",
        "print(\"Model accuracy is {}\".format(score.round(2))) #model accuracy score"
      ]
    },
    {
      "cell_type": "markdown",
      "metadata": {
        "id": "p_O9_b42u36Z"
      },
      "source": [
        "## D. Build a classifier for severity gauging"
      ]
    },
    {
      "cell_type": "code",
      "execution_count": 54,
      "metadata": {
        "colab": {
          "base_uri": "https://localhost:8080/"
        },
        "id": "-B1__qKEu36Z",
        "outputId": "58b251dc-b77d-40d3-a94e-11cc3689a6cf"
      },
      "outputs": [
        {
          "output_type": "stream",
          "name": "stdout",
          "text": [
            "<class 'pandas.core.frame.DataFrame'>\n",
            "RangeIndex: 3135 entries, 0 to 3134\n",
            "Data columns (total 12 columns):\n",
            " #   Column                    Non-Null Count  Dtype \n",
            "---  ------                    --------------  ----- \n",
            " 0   Date                      3135 non-null   object\n",
            " 1   Time                      3135 non-null   object\n",
            " 2   State/UnionTerritory      3135 non-null   object\n",
            " 3   ConfirmedIndianNational   3135 non-null   object\n",
            " 4   Gender                    3135 non-null   object\n",
            " 5   ConfirmedForeignNational  3135 non-null   object\n",
            " 6   Age                       3135 non-null   int64 \n",
            " 7   Serious symptoms          3135 non-null   object\n",
            " 8   Less common symptoms      3135 non-null   object\n",
            " 9   Most common symptoms      3135 non-null   object\n",
            " 10  Severity                  3135 non-null   object\n",
            " 11  Patient_Status            3135 non-null   object\n",
            "dtypes: int64(1), object(11)\n",
            "memory usage: 294.0+ KB\n"
          ]
        }
      ],
      "source": [
        "#a sample dataset created to implement severity gauging\n",
        "data2 = pd.read_csv('PAML_COVID_Dataset Sheet1.csv')\n",
        "data2.info()"
      ]
    },
    {
      "cell_type": "code",
      "execution_count": 55,
      "metadata": {
        "id": "7uIZrLq7u36Z"
      },
      "outputs": [],
      "source": [
        "data2.drop(columns=[\"Date\",\"Time\"],inplace=True)"
      ]
    },
    {
      "cell_type": "code",
      "execution_count": 56,
      "metadata": {
        "colab": {
          "base_uri": "https://localhost:8080/"
        },
        "id": "m6F1LK5Tu36Z",
        "outputId": "05d877e5-dd84-422e-e3e4-1c0560593bda"
      },
      "outputs": [
        {
          "output_type": "execute_result",
          "data": {
            "text/plain": [
              "Index(['State/UnionTerritory', 'ConfirmedIndianNational', 'Gender ',\n",
              "       'ConfirmedForeignNational', 'Age ', 'Serious symptoms',\n",
              "       'Less common symptoms', 'Most common symptoms', 'Severity',\n",
              "       'Patient_Status '],\n",
              "      dtype='object')"
            ]
          },
          "metadata": {},
          "execution_count": 56
        }
      ],
      "source": [
        "data2.columns"
      ]
    },
    {
      "cell_type": "code",
      "execution_count": 57,
      "metadata": {
        "colab": {
          "base_uri": "https://localhost:8080/",
          "height": 499
        },
        "id": "zpVAdXgYu36a",
        "outputId": "d15e0ba7-4da1-4b4e-da20-7653aaa4925f"
      },
      "outputs": [
        {
          "output_type": "execute_result",
          "data": {
            "text/html": [
              "\n",
              "  <div id=\"df-24007d36-a4d5-4777-8712-d8f5b659f4da\">\n",
              "    <div class=\"colab-df-container\">\n",
              "      <div>\n",
              "<style scoped>\n",
              "    .dataframe tbody tr th:only-of-type {\n",
              "        vertical-align: middle;\n",
              "    }\n",
              "\n",
              "    .dataframe tbody tr th {\n",
              "        vertical-align: top;\n",
              "    }\n",
              "\n",
              "    .dataframe thead th {\n",
              "        text-align: right;\n",
              "    }\n",
              "</style>\n",
              "<table border=\"1\" class=\"dataframe\">\n",
              "  <thead>\n",
              "    <tr style=\"text-align: right;\">\n",
              "      <th></th>\n",
              "      <th>State/UnionTerritory</th>\n",
              "      <th>ConfirmedIndianNational</th>\n",
              "      <th>Gender</th>\n",
              "      <th>ConfirmedForeignNational</th>\n",
              "      <th>Age</th>\n",
              "      <th>Serious symptoms</th>\n",
              "      <th>Less common symptoms</th>\n",
              "      <th>Most common symptoms</th>\n",
              "      <th>Severity</th>\n",
              "      <th>Patient_Status</th>\n",
              "    </tr>\n",
              "  </thead>\n",
              "  <tbody>\n",
              "    <tr>\n",
              "      <th>0</th>\n",
              "      <td>Kerala</td>\n",
              "      <td>1</td>\n",
              "      <td>Male</td>\n",
              "      <td>0</td>\n",
              "      <td>77</td>\n",
              "      <td>loss of speech or movement</td>\n",
              "      <td>a rash on skin, or discolouration of fingers o...</td>\n",
              "      <td>dry cough</td>\n",
              "      <td>Mild</td>\n",
              "      <td>flu</td>\n",
              "    </tr>\n",
              "    <tr>\n",
              "      <th>1</th>\n",
              "      <td>Kerala</td>\n",
              "      <td>1</td>\n",
              "      <td>Female</td>\n",
              "      <td>0</td>\n",
              "      <td>23</td>\n",
              "      <td>chest pain or pressure</td>\n",
              "      <td>loss of taste or smell</td>\n",
              "      <td>dry cough</td>\n",
              "      <td>Seviour</td>\n",
              "      <td>Covid</td>\n",
              "    </tr>\n",
              "    <tr>\n",
              "      <th>2</th>\n",
              "      <td>Kerala</td>\n",
              "      <td>2</td>\n",
              "      <td>Male</td>\n",
              "      <td>0</td>\n",
              "      <td>90</td>\n",
              "      <td>difficulty breathing or shortness of breath</td>\n",
              "      <td>conjunctivitis</td>\n",
              "      <td>tiredness</td>\n",
              "      <td>Seviour</td>\n",
              "      <td>Covid</td>\n",
              "    </tr>\n",
              "    <tr>\n",
              "      <th>3</th>\n",
              "      <td>Kerala</td>\n",
              "      <td>3</td>\n",
              "      <td>Female</td>\n",
              "      <td>0</td>\n",
              "      <td>18</td>\n",
              "      <td>difficulty breathing or shortness of breath</td>\n",
              "      <td>diarrhoea</td>\n",
              "      <td>fever</td>\n",
              "      <td>Seviour</td>\n",
              "      <td>Covid</td>\n",
              "    </tr>\n",
              "  </tbody>\n",
              "</table>\n",
              "</div>\n",
              "      <button class=\"colab-df-convert\" onclick=\"convertToInteractive('df-24007d36-a4d5-4777-8712-d8f5b659f4da')\"\n",
              "              title=\"Convert this dataframe to an interactive table.\"\n",
              "              style=\"display:none;\">\n",
              "        \n",
              "  <svg xmlns=\"http://www.w3.org/2000/svg\" height=\"24px\"viewBox=\"0 0 24 24\"\n",
              "       width=\"24px\">\n",
              "    <path d=\"M0 0h24v24H0V0z\" fill=\"none\"/>\n",
              "    <path d=\"M18.56 5.44l.94 2.06.94-2.06 2.06-.94-2.06-.94-.94-2.06-.94 2.06-2.06.94zm-11 1L8.5 8.5l.94-2.06 2.06-.94-2.06-.94L8.5 2.5l-.94 2.06-2.06.94zm10 10l.94 2.06.94-2.06 2.06-.94-2.06-.94-.94-2.06-.94 2.06-2.06.94z\"/><path d=\"M17.41 7.96l-1.37-1.37c-.4-.4-.92-.59-1.43-.59-.52 0-1.04.2-1.43.59L10.3 9.45l-7.72 7.72c-.78.78-.78 2.05 0 2.83L4 21.41c.39.39.9.59 1.41.59.51 0 1.02-.2 1.41-.59l7.78-7.78 2.81-2.81c.8-.78.8-2.07 0-2.86zM5.41 20L4 18.59l7.72-7.72 1.47 1.35L5.41 20z\"/>\n",
              "  </svg>\n",
              "      </button>\n",
              "      \n",
              "  <style>\n",
              "    .colab-df-container {\n",
              "      display:flex;\n",
              "      flex-wrap:wrap;\n",
              "      gap: 12px;\n",
              "    }\n",
              "\n",
              "    .colab-df-convert {\n",
              "      background-color: #E8F0FE;\n",
              "      border: none;\n",
              "      border-radius: 50%;\n",
              "      cursor: pointer;\n",
              "      display: none;\n",
              "      fill: #1967D2;\n",
              "      height: 32px;\n",
              "      padding: 0 0 0 0;\n",
              "      width: 32px;\n",
              "    }\n",
              "\n",
              "    .colab-df-convert:hover {\n",
              "      background-color: #E2EBFA;\n",
              "      box-shadow: 0px 1px 2px rgba(60, 64, 67, 0.3), 0px 1px 3px 1px rgba(60, 64, 67, 0.15);\n",
              "      fill: #174EA6;\n",
              "    }\n",
              "\n",
              "    [theme=dark] .colab-df-convert {\n",
              "      background-color: #3B4455;\n",
              "      fill: #D2E3FC;\n",
              "    }\n",
              "\n",
              "    [theme=dark] .colab-df-convert:hover {\n",
              "      background-color: #434B5C;\n",
              "      box-shadow: 0px 1px 3px 1px rgba(0, 0, 0, 0.15);\n",
              "      filter: drop-shadow(0px 1px 2px rgba(0, 0, 0, 0.3));\n",
              "      fill: #FFFFFF;\n",
              "    }\n",
              "  </style>\n",
              "\n",
              "      <script>\n",
              "        const buttonEl =\n",
              "          document.querySelector('#df-24007d36-a4d5-4777-8712-d8f5b659f4da button.colab-df-convert');\n",
              "        buttonEl.style.display =\n",
              "          google.colab.kernel.accessAllowed ? 'block' : 'none';\n",
              "\n",
              "        async function convertToInteractive(key) {\n",
              "          const element = document.querySelector('#df-24007d36-a4d5-4777-8712-d8f5b659f4da');\n",
              "          const dataTable =\n",
              "            await google.colab.kernel.invokeFunction('convertToInteractive',\n",
              "                                                     [key], {});\n",
              "          if (!dataTable) return;\n",
              "\n",
              "          const docLinkHtml = 'Like what you see? Visit the ' +\n",
              "            '<a target=\"_blank\" href=https://colab.research.google.com/notebooks/data_table.ipynb>data table notebook</a>'\n",
              "            + ' to learn more about interactive tables.';\n",
              "          element.innerHTML = '';\n",
              "          dataTable['output_type'] = 'display_data';\n",
              "          await google.colab.output.renderOutput(dataTable, element);\n",
              "          const docLink = document.createElement('div');\n",
              "          docLink.innerHTML = docLinkHtml;\n",
              "          element.appendChild(docLink);\n",
              "        }\n",
              "      </script>\n",
              "    </div>\n",
              "  </div>\n",
              "  "
            ],
            "text/plain": [
              "  State/UnionTerritory ConfirmedIndianNational  ... Severity Patient_Status \n",
              "0               Kerala                       1  ...     Mild             flu\n",
              "1               Kerala                       1  ...  Seviour           Covid\n",
              "2               Kerala                       2  ...  Seviour           Covid\n",
              "3               Kerala                       3  ...  Seviour           Covid\n",
              "\n",
              "[4 rows x 10 columns]"
            ]
          },
          "metadata": {},
          "execution_count": 57
        }
      ],
      "source": [
        "data2.head(4) #Patient_Status col is the end vales need to patient "
      ]
    },
    {
      "cell_type": "code",
      "execution_count": 58,
      "metadata": {
        "id": "a1BcP1czu36a"
      },
      "outputs": [],
      "source": [
        "labelEncoder = LabelEncoder()\n",
        "x[:,0] = labelEncoder.fit_transform(x[:,0])\n",
        "x[:,2] = labelEncoder.fit_transform(x[:,2])\n",
        "x[:,5] = labelEncoder.fit_transform(x[:,5])\n",
        "x[:,6] = labelEncoder.fit_transform(x[:,6]) #converting string into numberic data to perform ML\n",
        "x[:,7] = labelEncoder.fit_transform(x[:,7])\n",
        "x[:,8] = labelEncoder.fit_transform(x[:,8])\n",
        "x[:,9] = labelEncoder.fit_transform(x[:,9])\n"
      ]
    },
    {
      "cell_type": "code",
      "execution_count": 59,
      "metadata": {
        "colab": {
          "base_uri": "https://localhost:8080/",
          "height": 488
        },
        "id": "YjTxjKIZu36a",
        "outputId": "a69d1bf9-b5a8-4c8b-a31f-3a8784efd1c2"
      },
      "outputs": [
        {
          "output_type": "execute_result",
          "data": {
            "text/html": [
              "\n",
              "  <div id=\"df-31f9d4b8-ac83-4f07-93df-06a140523c17\">\n",
              "    <div class=\"colab-df-container\">\n",
              "      <div>\n",
              "<style scoped>\n",
              "    .dataframe tbody tr th:only-of-type {\n",
              "        vertical-align: middle;\n",
              "    }\n",
              "\n",
              "    .dataframe tbody tr th {\n",
              "        vertical-align: top;\n",
              "    }\n",
              "\n",
              "    .dataframe thead th {\n",
              "        text-align: right;\n",
              "    }\n",
              "</style>\n",
              "<table border=\"1\" class=\"dataframe\">\n",
              "  <thead>\n",
              "    <tr style=\"text-align: right;\">\n",
              "      <th></th>\n",
              "      <th>0</th>\n",
              "      <th>1</th>\n",
              "      <th>2</th>\n",
              "      <th>3</th>\n",
              "      <th>4</th>\n",
              "      <th>5</th>\n",
              "      <th>6</th>\n",
              "      <th>7</th>\n",
              "      <th>8</th>\n",
              "      <th>9</th>\n",
              "      <th>10</th>\n",
              "      <th>11</th>\n",
              "      <th>12</th>\n",
              "      <th>13</th>\n",
              "      <th>14</th>\n",
              "      <th>15</th>\n",
              "      <th>16</th>\n",
              "      <th>17</th>\n",
              "      <th>18</th>\n",
              "      <th>19</th>\n",
              "      <th>20</th>\n",
              "      <th>21</th>\n",
              "      <th>22</th>\n",
              "      <th>23</th>\n",
              "      <th>24</th>\n",
              "      <th>25</th>\n",
              "      <th>26</th>\n",
              "      <th>27</th>\n",
              "      <th>28</th>\n",
              "      <th>29</th>\n",
              "      <th>30</th>\n",
              "      <th>31</th>\n",
              "      <th>32</th>\n",
              "      <th>33</th>\n",
              "      <th>34</th>\n",
              "      <th>35</th>\n",
              "      <th>36</th>\n",
              "      <th>37</th>\n",
              "      <th>38</th>\n",
              "    </tr>\n",
              "  </thead>\n",
              "  <tbody>\n",
              "    <tr>\n",
              "      <th>0</th>\n",
              "      <td>43.0</td>\n",
              "      <td>-0.324536</td>\n",
              "      <td>1.0</td>\n",
              "      <td>-0.304631</td>\n",
              "      <td>-0.440178</td>\n",
              "      <td>0.0</td>\n",
              "      <td>0.0</td>\n",
              "      <td>0.0</td>\n",
              "      <td>0.0</td>\n",
              "      <td>0.0</td>\n",
              "      <td>-0.534636</td>\n",
              "      <td>-0.417229</td>\n",
              "      <td>-0.842373</td>\n",
              "      <td>-0.470580</td>\n",
              "      <td>-0.561624</td>\n",
              "      <td>-0.565872</td>\n",
              "      <td>-0.498144</td>\n",
              "      <td>-0.375894</td>\n",
              "      <td>-0.198241</td>\n",
              "      <td>-0.278354</td>\n",
              "      <td>0.0</td>\n",
              "      <td>-0.869651</td>\n",
              "      <td>-0.633528</td>\n",
              "      <td>-0.386891</td>\n",
              "      <td>-0.157032</td>\n",
              "      <td>-0.216680</td>\n",
              "      <td>-0.328727</td>\n",
              "      <td>-0.517032</td>\n",
              "      <td>-0.383093</td>\n",
              "      <td>-0.452330</td>\n",
              "      <td>-0.778343</td>\n",
              "      <td>-0.181340</td>\n",
              "      <td>-0.566892</td>\n",
              "      <td>-0.391506</td>\n",
              "      <td>-0.406301</td>\n",
              "      <td>-0.596954</td>\n",
              "      <td>-0.507181</td>\n",
              "      <td>-0.606191</td>\n",
              "      <td>-0.059918</td>\n",
              "    </tr>\n",
              "    <tr>\n",
              "      <th>1</th>\n",
              "      <td>8.0</td>\n",
              "      <td>-0.324536</td>\n",
              "      <td>0.0</td>\n",
              "      <td>-0.304631</td>\n",
              "      <td>-0.440178</td>\n",
              "      <td>0.0</td>\n",
              "      <td>0.0</td>\n",
              "      <td>0.0</td>\n",
              "      <td>0.0</td>\n",
              "      <td>0.0</td>\n",
              "      <td>-0.540520</td>\n",
              "      <td>-0.417229</td>\n",
              "      <td>-0.842373</td>\n",
              "      <td>-0.548643</td>\n",
              "      <td>-0.561624</td>\n",
              "      <td>-0.592596</td>\n",
              "      <td>-0.498144</td>\n",
              "      <td>-0.393528</td>\n",
              "      <td>-0.480200</td>\n",
              "      <td>-0.278354</td>\n",
              "      <td>0.0</td>\n",
              "      <td>-0.869651</td>\n",
              "      <td>-0.641950</td>\n",
              "      <td>-0.386891</td>\n",
              "      <td>-0.157032</td>\n",
              "      <td>-0.216680</td>\n",
              "      <td>-0.328727</td>\n",
              "      <td>-0.517032</td>\n",
              "      <td>-0.383093</td>\n",
              "      <td>-0.465561</td>\n",
              "      <td>-0.792160</td>\n",
              "      <td>-0.181340</td>\n",
              "      <td>-0.567837</td>\n",
              "      <td>-0.394225</td>\n",
              "      <td>-0.406301</td>\n",
              "      <td>-0.629682</td>\n",
              "      <td>-0.507181</td>\n",
              "      <td>-0.606191</td>\n",
              "      <td>-0.059918</td>\n",
              "    </tr>\n",
              "    <tr>\n",
              "      <th>2</th>\n",
              "      <td>2.0</td>\n",
              "      <td>-0.324536</td>\n",
              "      <td>0.0</td>\n",
              "      <td>-0.304631</td>\n",
              "      <td>-0.440178</td>\n",
              "      <td>0.0</td>\n",
              "      <td>0.0</td>\n",
              "      <td>0.0</td>\n",
              "      <td>0.0</td>\n",
              "      <td>0.0</td>\n",
              "      <td>-0.540520</td>\n",
              "      <td>-0.417229</td>\n",
              "      <td>-0.842373</td>\n",
              "      <td>-0.548643</td>\n",
              "      <td>-0.561624</td>\n",
              "      <td>-0.592596</td>\n",
              "      <td>-0.498144</td>\n",
              "      <td>-0.390589</td>\n",
              "      <td>-0.533068</td>\n",
              "      <td>-0.278354</td>\n",
              "      <td>0.0</td>\n",
              "      <td>-0.869651</td>\n",
              "      <td>-0.641950</td>\n",
              "      <td>-0.386891</td>\n",
              "      <td>-0.157032</td>\n",
              "      <td>-0.216680</td>\n",
              "      <td>-0.328727</td>\n",
              "      <td>-0.517032</td>\n",
              "      <td>-0.383093</td>\n",
              "      <td>-0.465561</td>\n",
              "      <td>-0.799069</td>\n",
              "      <td>-0.181340</td>\n",
              "      <td>-0.567837</td>\n",
              "      <td>-0.394225</td>\n",
              "      <td>-0.406301</td>\n",
              "      <td>-0.646046</td>\n",
              "      <td>-0.507181</td>\n",
              "      <td>-0.606191</td>\n",
              "      <td>-0.059918</td>\n",
              "    </tr>\n",
              "    <tr>\n",
              "      <th>3</th>\n",
              "      <td>18.0</td>\n",
              "      <td>-0.324536</td>\n",
              "      <td>0.0</td>\n",
              "      <td>-0.304631</td>\n",
              "      <td>-0.440178</td>\n",
              "      <td>0.0</td>\n",
              "      <td>0.0</td>\n",
              "      <td>0.0</td>\n",
              "      <td>0.0</td>\n",
              "      <td>0.0</td>\n",
              "      <td>-0.541500</td>\n",
              "      <td>-0.417229</td>\n",
              "      <td>-0.842373</td>\n",
              "      <td>-0.548643</td>\n",
              "      <td>-0.561624</td>\n",
              "      <td>-0.592596</td>\n",
              "      <td>-0.498144</td>\n",
              "      <td>-0.393528</td>\n",
              "      <td>-0.444955</td>\n",
              "      <td>-0.278354</td>\n",
              "      <td>0.0</td>\n",
              "      <td>-0.869651</td>\n",
              "      <td>-0.631122</td>\n",
              "      <td>-0.386891</td>\n",
              "      <td>-0.157032</td>\n",
              "      <td>-0.216680</td>\n",
              "      <td>-0.328727</td>\n",
              "      <td>-0.517032</td>\n",
              "      <td>-0.383093</td>\n",
              "      <td>-0.465561</td>\n",
              "      <td>-0.792160</td>\n",
              "      <td>-0.181340</td>\n",
              "      <td>-0.567837</td>\n",
              "      <td>-0.388787</td>\n",
              "      <td>-0.406301</td>\n",
              "      <td>-0.641955</td>\n",
              "      <td>-0.507181</td>\n",
              "      <td>-0.606191</td>\n",
              "      <td>-0.059918</td>\n",
              "    </tr>\n",
              "    <tr>\n",
              "      <th>4</th>\n",
              "      <td>4.0</td>\n",
              "      <td>-0.324536</td>\n",
              "      <td>0.0</td>\n",
              "      <td>-0.304631</td>\n",
              "      <td>-0.440178</td>\n",
              "      <td>0.0</td>\n",
              "      <td>0.0</td>\n",
              "      <td>0.0</td>\n",
              "      <td>0.0</td>\n",
              "      <td>0.0</td>\n",
              "      <td>-0.540520</td>\n",
              "      <td>-0.417229</td>\n",
              "      <td>-0.842373</td>\n",
              "      <td>-0.548643</td>\n",
              "      <td>-0.561624</td>\n",
              "      <td>-0.592596</td>\n",
              "      <td>-0.498144</td>\n",
              "      <td>-0.393528</td>\n",
              "      <td>-0.533068</td>\n",
              "      <td>-0.278354</td>\n",
              "      <td>0.0</td>\n",
              "      <td>-0.869651</td>\n",
              "      <td>-0.641950</td>\n",
              "      <td>-0.386891</td>\n",
              "      <td>-0.157032</td>\n",
              "      <td>-0.216680</td>\n",
              "      <td>-0.328727</td>\n",
              "      <td>-0.517032</td>\n",
              "      <td>-0.383093</td>\n",
              "      <td>-0.465561</td>\n",
              "      <td>-0.785252</td>\n",
              "      <td>-0.181340</td>\n",
              "      <td>-0.567837</td>\n",
              "      <td>-0.391506</td>\n",
              "      <td>-0.406301</td>\n",
              "      <td>-0.646046</td>\n",
              "      <td>-0.507181</td>\n",
              "      <td>-0.606191</td>\n",
              "      <td>-0.059918</td>\n",
              "    </tr>\n",
              "    <tr>\n",
              "      <th>...</th>\n",
              "      <td>...</td>\n",
              "      <td>...</td>\n",
              "      <td>...</td>\n",
              "      <td>...</td>\n",
              "      <td>...</td>\n",
              "      <td>...</td>\n",
              "      <td>...</td>\n",
              "      <td>...</td>\n",
              "      <td>...</td>\n",
              "      <td>...</td>\n",
              "      <td>...</td>\n",
              "      <td>...</td>\n",
              "      <td>...</td>\n",
              "      <td>...</td>\n",
              "      <td>...</td>\n",
              "      <td>...</td>\n",
              "      <td>...</td>\n",
              "      <td>...</td>\n",
              "      <td>...</td>\n",
              "      <td>...</td>\n",
              "      <td>...</td>\n",
              "      <td>...</td>\n",
              "      <td>...</td>\n",
              "      <td>...</td>\n",
              "      <td>...</td>\n",
              "      <td>...</td>\n",
              "      <td>...</td>\n",
              "      <td>...</td>\n",
              "      <td>...</td>\n",
              "      <td>...</td>\n",
              "      <td>...</td>\n",
              "      <td>...</td>\n",
              "      <td>...</td>\n",
              "      <td>...</td>\n",
              "      <td>...</td>\n",
              "      <td>...</td>\n",
              "      <td>...</td>\n",
              "      <td>...</td>\n",
              "      <td>...</td>\n",
              "    </tr>\n",
              "    <tr>\n",
              "      <th>352</th>\n",
              "      <td>285.0</td>\n",
              "      <td>3.880039</td>\n",
              "      <td>131.0</td>\n",
              "      <td>2.313064</td>\n",
              "      <td>2.172880</td>\n",
              "      <td>113.0</td>\n",
              "      <td>1.0</td>\n",
              "      <td>38.0</td>\n",
              "      <td>10.0</td>\n",
              "      <td>0.0</td>\n",
              "      <td>3.407498</td>\n",
              "      <td>2.308235</td>\n",
              "      <td>0.991172</td>\n",
              "      <td>1.676150</td>\n",
              "      <td>0.707362</td>\n",
              "      <td>1.117709</td>\n",
              "      <td>0.735767</td>\n",
              "      <td>2.419023</td>\n",
              "      <td>2.092682</td>\n",
              "      <td>1.075356</td>\n",
              "      <td>0.0</td>\n",
              "      <td>1.684805</td>\n",
              "      <td>1.804541</td>\n",
              "      <td>-0.043593</td>\n",
              "      <td>-0.157032</td>\n",
              "      <td>-0.216680</td>\n",
              "      <td>-0.328727</td>\n",
              "      <td>3.183623</td>\n",
              "      <td>2.099657</td>\n",
              "      <td>1.082567</td>\n",
              "      <td>0.610308</td>\n",
              "      <td>-0.181340</td>\n",
              "      <td>3.208293</td>\n",
              "      <td>2.087887</td>\n",
              "      <td>0.208315</td>\n",
              "      <td>2.610451</td>\n",
              "      <td>0.143170</td>\n",
              "      <td>1.947561</td>\n",
              "      <td>-0.059918</td>\n",
              "    </tr>\n",
              "    <tr>\n",
              "      <th>353</th>\n",
              "      <td>117.0</td>\n",
              "      <td>-0.324536</td>\n",
              "      <td>13.0</td>\n",
              "      <td>-0.304631</td>\n",
              "      <td>-0.409144</td>\n",
              "      <td>9.0</td>\n",
              "      <td>0.0</td>\n",
              "      <td>1.0</td>\n",
              "      <td>0.0</td>\n",
              "      <td>0.0</td>\n",
              "      <td>-0.497372</td>\n",
              "      <td>-0.375934</td>\n",
              "      <td>-0.778263</td>\n",
              "      <td>-0.520763</td>\n",
              "      <td>-0.561624</td>\n",
              "      <td>-0.525787</td>\n",
              "      <td>-0.467296</td>\n",
              "      <td>-0.343566</td>\n",
              "      <td>-0.533068</td>\n",
              "      <td>-0.278354</td>\n",
              "      <td>0.0</td>\n",
              "      <td>-0.817519</td>\n",
              "      <td>-0.510211</td>\n",
              "      <td>-0.386891</td>\n",
              "      <td>-0.157032</td>\n",
              "      <td>-0.216680</td>\n",
              "      <td>-0.328727</td>\n",
              "      <td>-0.461661</td>\n",
              "      <td>-0.241221</td>\n",
              "      <td>-0.399402</td>\n",
              "      <td>-0.736891</td>\n",
              "      <td>-0.181340</td>\n",
              "      <td>-0.506383</td>\n",
              "      <td>-0.375194</td>\n",
              "      <td>-0.406301</td>\n",
              "      <td>-0.576498</td>\n",
              "      <td>-0.507181</td>\n",
              "      <td>-0.477310</td>\n",
              "      <td>-0.059918</td>\n",
              "    </tr>\n",
              "    <tr>\n",
              "      <th>354</th>\n",
              "      <td>300.0</td>\n",
              "      <td>-0.324536</td>\n",
              "      <td>137.0</td>\n",
              "      <td>7.548454</td>\n",
              "      <td>5.369376</td>\n",
              "      <td>127.0</td>\n",
              "      <td>13.0</td>\n",
              "      <td>75.0</td>\n",
              "      <td>14.0</td>\n",
              "      <td>0.0</td>\n",
              "      <td>1.507036</td>\n",
              "      <td>3.712261</td>\n",
              "      <td>2.897375</td>\n",
              "      <td>2.629633</td>\n",
              "      <td>2.464421</td>\n",
              "      <td>4.578406</td>\n",
              "      <td>7.213803</td>\n",
              "      <td>6.404204</td>\n",
              "      <td>6.797884</td>\n",
              "      <td>0.172883</td>\n",
              "      <td>0.0</td>\n",
              "      <td>2.425075</td>\n",
              "      <td>4.087411</td>\n",
              "      <td>7.165660</td>\n",
              "      <td>17.406929</td>\n",
              "      <td>4.604883</td>\n",
              "      <td>6.354640</td>\n",
              "      <td>6.450536</td>\n",
              "      <td>4.724278</td>\n",
              "      <td>2.405753</td>\n",
              "      <td>3.422155</td>\n",
              "      <td>-0.181340</td>\n",
              "      <td>2.911422</td>\n",
              "      <td>3.080188</td>\n",
              "      <td>5.827668</td>\n",
              "      <td>4.827815</td>\n",
              "      <td>1.502993</td>\n",
              "      <td>5.112303</td>\n",
              "      <td>-1.211450</td>\n",
              "    </tr>\n",
              "    <tr>\n",
              "      <th>355</th>\n",
              "      <td>291.0</td>\n",
              "      <td>3.880039</td>\n",
              "      <td>130.0</td>\n",
              "      <td>-0.304631</td>\n",
              "      <td>3.910781</td>\n",
              "      <td>134.0</td>\n",
              "      <td>5.0</td>\n",
              "      <td>67.0</td>\n",
              "      <td>18.0</td>\n",
              "      <td>0.0</td>\n",
              "      <td>1.878695</td>\n",
              "      <td>2.638594</td>\n",
              "      <td>1.042460</td>\n",
              "      <td>1.676150</td>\n",
              "      <td>3.245335</td>\n",
              "      <td>0.623324</td>\n",
              "      <td>-0.066275</td>\n",
              "      <td>2.554213</td>\n",
              "      <td>1.440650</td>\n",
              "      <td>-0.178079</td>\n",
              "      <td>0.0</td>\n",
              "      <td>1.726510</td>\n",
              "      <td>2.585950</td>\n",
              "      <td>1.501247</td>\n",
              "      <td>-0.157032</td>\n",
              "      <td>-0.216680</td>\n",
              "      <td>-0.328727</td>\n",
              "      <td>4.697108</td>\n",
              "      <td>0.893750</td>\n",
              "      <td>0.487133</td>\n",
              "      <td>3.000723</td>\n",
              "      <td>2.528636</td>\n",
              "      <td>3.368074</td>\n",
              "      <td>2.359751</td>\n",
              "      <td>1.086339</td>\n",
              "      <td>2.054065</td>\n",
              "      <td>0.497906</td>\n",
              "      <td>1.885507</td>\n",
              "      <td>-0.059918</td>\n",
              "    </tr>\n",
              "    <tr>\n",
              "      <th>356</th>\n",
              "      <td>122.0</td>\n",
              "      <td>-0.324536</td>\n",
              "      <td>15.0</td>\n",
              "      <td>-0.304631</td>\n",
              "      <td>-0.390523</td>\n",
              "      <td>2.0</td>\n",
              "      <td>0.0</td>\n",
              "      <td>2.0</td>\n",
              "      <td>0.0</td>\n",
              "      <td>0.0</td>\n",
              "      <td>-0.500314</td>\n",
              "      <td>-0.417229</td>\n",
              "      <td>-0.782537</td>\n",
              "      <td>-0.531915</td>\n",
              "      <td>-0.561624</td>\n",
              "      <td>-0.525787</td>\n",
              "      <td>-0.498144</td>\n",
              "      <td>-0.226009</td>\n",
              "      <td>-0.533068</td>\n",
              "      <td>-0.278354</td>\n",
              "      <td>0.0</td>\n",
              "      <td>-0.827946</td>\n",
              "      <td>-0.506000</td>\n",
              "      <td>-0.386891</td>\n",
              "      <td>-0.157032</td>\n",
              "      <td>-0.216680</td>\n",
              "      <td>-0.328727</td>\n",
              "      <td>-0.461661</td>\n",
              "      <td>-0.312157</td>\n",
              "      <td>-0.412634</td>\n",
              "      <td>-0.757617</td>\n",
              "      <td>-0.181340</td>\n",
              "      <td>-0.507328</td>\n",
              "      <td>-0.372476</td>\n",
              "      <td>-0.406301</td>\n",
              "      <td>-0.535587</td>\n",
              "      <td>-0.507181</td>\n",
              "      <td>-0.482083</td>\n",
              "      <td>-0.059918</td>\n",
              "    </tr>\n",
              "  </tbody>\n",
              "</table>\n",
              "<p>357 rows × 39 columns</p>\n",
              "</div>\n",
              "      <button class=\"colab-df-convert\" onclick=\"convertToInteractive('df-31f9d4b8-ac83-4f07-93df-06a140523c17')\"\n",
              "              title=\"Convert this dataframe to an interactive table.\"\n",
              "              style=\"display:none;\">\n",
              "        \n",
              "  <svg xmlns=\"http://www.w3.org/2000/svg\" height=\"24px\"viewBox=\"0 0 24 24\"\n",
              "       width=\"24px\">\n",
              "    <path d=\"M0 0h24v24H0V0z\" fill=\"none\"/>\n",
              "    <path d=\"M18.56 5.44l.94 2.06.94-2.06 2.06-.94-2.06-.94-.94-2.06-.94 2.06-2.06.94zm-11 1L8.5 8.5l.94-2.06 2.06-.94-2.06-.94L8.5 2.5l-.94 2.06-2.06.94zm10 10l.94 2.06.94-2.06 2.06-.94-2.06-.94-.94-2.06-.94 2.06-2.06.94z\"/><path d=\"M17.41 7.96l-1.37-1.37c-.4-.4-.92-.59-1.43-.59-.52 0-1.04.2-1.43.59L10.3 9.45l-7.72 7.72c-.78.78-.78 2.05 0 2.83L4 21.41c.39.39.9.59 1.41.59.51 0 1.02-.2 1.41-.59l7.78-7.78 2.81-2.81c.8-.78.8-2.07 0-2.86zM5.41 20L4 18.59l7.72-7.72 1.47 1.35L5.41 20z\"/>\n",
              "  </svg>\n",
              "      </button>\n",
              "      \n",
              "  <style>\n",
              "    .colab-df-container {\n",
              "      display:flex;\n",
              "      flex-wrap:wrap;\n",
              "      gap: 12px;\n",
              "    }\n",
              "\n",
              "    .colab-df-convert {\n",
              "      background-color: #E8F0FE;\n",
              "      border: none;\n",
              "      border-radius: 50%;\n",
              "      cursor: pointer;\n",
              "      display: none;\n",
              "      fill: #1967D2;\n",
              "      height: 32px;\n",
              "      padding: 0 0 0 0;\n",
              "      width: 32px;\n",
              "    }\n",
              "\n",
              "    .colab-df-convert:hover {\n",
              "      background-color: #E2EBFA;\n",
              "      box-shadow: 0px 1px 2px rgba(60, 64, 67, 0.3), 0px 1px 3px 1px rgba(60, 64, 67, 0.15);\n",
              "      fill: #174EA6;\n",
              "    }\n",
              "\n",
              "    [theme=dark] .colab-df-convert {\n",
              "      background-color: #3B4455;\n",
              "      fill: #D2E3FC;\n",
              "    }\n",
              "\n",
              "    [theme=dark] .colab-df-convert:hover {\n",
              "      background-color: #434B5C;\n",
              "      box-shadow: 0px 1px 3px 1px rgba(0, 0, 0, 0.15);\n",
              "      filter: drop-shadow(0px 1px 2px rgba(0, 0, 0, 0.3));\n",
              "      fill: #FFFFFF;\n",
              "    }\n",
              "  </style>\n",
              "\n",
              "      <script>\n",
              "        const buttonEl =\n",
              "          document.querySelector('#df-31f9d4b8-ac83-4f07-93df-06a140523c17 button.colab-df-convert');\n",
              "        buttonEl.style.display =\n",
              "          google.colab.kernel.accessAllowed ? 'block' : 'none';\n",
              "\n",
              "        async function convertToInteractive(key) {\n",
              "          const element = document.querySelector('#df-31f9d4b8-ac83-4f07-93df-06a140523c17');\n",
              "          const dataTable =\n",
              "            await google.colab.kernel.invokeFunction('convertToInteractive',\n",
              "                                                     [key], {});\n",
              "          if (!dataTable) return;\n",
              "\n",
              "          const docLinkHtml = 'Like what you see? Visit the ' +\n",
              "            '<a target=\"_blank\" href=https://colab.research.google.com/notebooks/data_table.ipynb>data table notebook</a>'\n",
              "            + ' to learn more about interactive tables.';\n",
              "          element.innerHTML = '';\n",
              "          dataTable['output_type'] = 'display_data';\n",
              "          await google.colab.output.renderOutput(dataTable, element);\n",
              "          const docLink = document.createElement('div');\n",
              "          docLink.innerHTML = docLinkHtml;\n",
              "          element.appendChild(docLink);\n",
              "        }\n",
              "      </script>\n",
              "    </div>\n",
              "  </div>\n",
              "  "
            ],
            "text/plain": [
              "        0         1      2         3   ...        35        36        37        38\n",
              "0     43.0 -0.324536    1.0 -0.304631  ... -0.596954 -0.507181 -0.606191 -0.059918\n",
              "1      8.0 -0.324536    0.0 -0.304631  ... -0.629682 -0.507181 -0.606191 -0.059918\n",
              "2      2.0 -0.324536    0.0 -0.304631  ... -0.646046 -0.507181 -0.606191 -0.059918\n",
              "3     18.0 -0.324536    0.0 -0.304631  ... -0.641955 -0.507181 -0.606191 -0.059918\n",
              "4      4.0 -0.324536    0.0 -0.304631  ... -0.646046 -0.507181 -0.606191 -0.059918\n",
              "..     ...       ...    ...       ...  ...       ...       ...       ...       ...\n",
              "352  285.0  3.880039  131.0  2.313064  ...  2.610451  0.143170  1.947561 -0.059918\n",
              "353  117.0 -0.324536   13.0 -0.304631  ... -0.576498 -0.507181 -0.477310 -0.059918\n",
              "354  300.0 -0.324536  137.0  7.548454  ...  4.827815  1.502993  5.112303 -1.211450\n",
              "355  291.0  3.880039  130.0 -0.304631  ...  2.054065  0.497906  1.885507 -0.059918\n",
              "356  122.0 -0.324536   15.0 -0.304631  ... -0.535587 -0.507181 -0.482083 -0.059918\n",
              "\n",
              "[357 rows x 39 columns]"
            ]
          },
          "metadata": {},
          "execution_count": 59
        }
      ],
      "source": [
        "x1 = pd.DataFrame(x)\n",
        "x1"
      ]
    },
    {
      "cell_type": "code",
      "execution_count": 60,
      "metadata": {
        "id": "qkc7aeXeu36a"
      },
      "outputs": [],
      "source": [
        "x1[1] = x1[1].replace('-',0)\n",
        "x1[3] = x1[3].replace('-',0) #replacing - with 0"
      ]
    },
    {
      "cell_type": "markdown",
      "metadata": {
        "id": "z8Q2K2RDu36b"
      },
      "source": [
        "### separating Independent & dependent col"
      ]
    },
    {
      "cell_type": "code",
      "execution_count": 61,
      "metadata": {
        "colab": {
          "base_uri": "https://localhost:8080/"
        },
        "id": "5C5hkdr0u36b",
        "outputId": "7c2ac0c6-d569-42df-dd54-e37c15e9a13f"
      },
      "outputs": [
        {
          "output_type": "execute_result",
          "data": {
            "text/plain": [
              "array([[43.        , -0.32453617,  1.        , -0.3046312 , -0.44017774,\n",
              "         0.        ,  0.        ,  0.        ,  0.        ],\n",
              "       [ 8.        , -0.32453617,  0.        , -0.3046312 , -0.44017774,\n",
              "         0.        ,  0.        ,  0.        ,  0.        ],\n",
              "       [ 2.        , -0.32453617,  0.        , -0.3046312 , -0.44017774,\n",
              "         0.        ,  0.        ,  0.        ,  0.        ],\n",
              "       [18.        , -0.32453617,  0.        , -0.3046312 , -0.44017774,\n",
              "         0.        ,  0.        ,  0.        ,  0.        ],\n",
              "       [ 4.        , -0.32453617,  0.        , -0.3046312 , -0.44017774,\n",
              "         0.        ,  0.        ,  0.        ,  0.        ]])"
            ]
          },
          "metadata": {},
          "execution_count": 61
        }
      ],
      "source": [
        "x = x1[[0,1,2,3,4,5,6,7,8]] .values  \n",
        "x[0:5]"
      ]
    },
    {
      "cell_type": "code",
      "execution_count": 62,
      "metadata": {
        "colab": {
          "base_uri": "https://localhost:8080/"
        },
        "id": "RlmBg-Jtu36b",
        "outputId": "07c91624-436e-43bb-f7fc-3dc1740d7d88"
      },
      "outputs": [
        {
          "output_type": "execute_result",
          "data": {
            "text/plain": [
              "array([0, 0, 0, 0, 0])"
            ]
          },
          "metadata": {},
          "execution_count": 62
        }
      ],
      "source": [
        "y = x1[9].values\n",
        "y=y.astype('int') #converting object into int for calculation\n",
        "y[0:5]"
      ]
    },
    {
      "cell_type": "code",
      "execution_count": 63,
      "metadata": {
        "colab": {
          "base_uri": "https://localhost:8080/"
        },
        "id": "rS39cUq4u36c",
        "outputId": "31f16464-50ec-4bed-895e-72a1b64604c0"
      },
      "outputs": [
        {
          "output_type": "execute_result",
          "data": {
            "text/plain": [
              "array([[-0.95366368, -0.32453617, -0.83162933, -0.3046312 , -0.44017774,\n",
              "        -0.71812023, -0.52251838, -0.5497806 , -0.36399025],\n",
              "       [-1.33314292, -0.32453617, -0.85641989, -0.3046312 , -0.44017774,\n",
              "        -0.71812023, -0.52251838, -0.5497806 , -0.36399025],\n",
              "       [-1.39819651, -0.32453617, -0.85641989, -0.3046312 , -0.44017774,\n",
              "        -0.71812023, -0.52251838, -0.5497806 , -0.36399025],\n",
              "       [-1.22472028, -0.32453617, -0.85641989, -0.3046312 , -0.44017774,\n",
              "        -0.71812023, -0.52251838, -0.5497806 , -0.36399025],\n",
              "       [-1.37651198, -0.32453617, -0.85641989, -0.3046312 , -0.44017774,\n",
              "        -0.71812023, -0.52251838, -0.5497806 , -0.36399025]])"
            ]
          },
          "metadata": {},
          "execution_count": 63
        }
      ],
      "source": [
        "x = preprocessing.StandardScaler().fit(x).transform(x.astype(float))\n",
        "x[0:5] #Standardization of data"
      ]
    },
    {
      "cell_type": "code",
      "execution_count": 64,
      "metadata": {
        "colab": {
          "base_uri": "https://localhost:8080/"
        },
        "id": "sRLhwu1Fu36c",
        "outputId": "d0c7b198-4354-4e5f-e085-a87c52513586"
      },
      "outputs": [
        {
          "output_type": "stream",
          "name": "stdout",
          "text": [
            "Train set: (285, 9) (285,)\n",
            "Test set: (72, 9) (72,)\n"
          ]
        }
      ],
      "source": [
        "x_train, x_test, y_train, y_test = train_test_split( x, y, test_size=0.2, random_state=2)\n",
        "print ('Train set:', x_train.shape,  y_train.shape)\n",
        "print ('Test set:', x_test.shape,  y_test.shape)  #splitting data into train & test data"
      ]
    },
    {
      "cell_type": "code",
      "execution_count": 65,
      "metadata": {
        "colab": {
          "base_uri": "https://localhost:8080/"
        },
        "id": "54oGPYDXu36c",
        "outputId": "2b450306-76a7-4c4f-d68a-898c0e51ab25"
      },
      "outputs": [
        {
          "output_type": "execute_result",
          "data": {
            "text/plain": [
              "KNeighborsClassifier(n_neighbors=1)"
            ]
          },
          "metadata": {},
          "execution_count": 65
        }
      ],
      "source": [
        "knn = KNeighborsClassifier(n_neighbors=1)\n",
        "knn.fit(x_train,y_train)  #trainning model and predicting "
      ]
    },
    {
      "cell_type": "code",
      "execution_count": 66,
      "metadata": {
        "colab": {
          "base_uri": "https://localhost:8080/"
        },
        "id": "1to1lOkvu36d",
        "outputId": "44cf7ccb-71a1-442f-b436-2261a1a11805"
      },
      "outputs": [
        {
          "output_type": "execute_result",
          "data": {
            "text/plain": [
              "array([0, 0, 0, 0, 0])"
            ]
          },
          "metadata": {},
          "execution_count": 66
        }
      ],
      "source": [
        "yhat = knn.predict(x_test)\n",
        "yhat[0:5]"
      ]
    },
    {
      "cell_type": "code",
      "execution_count": 67,
      "metadata": {
        "colab": {
          "base_uri": "https://localhost:8080/"
        },
        "id": "36glHfi4u36d",
        "outputId": "4b41ce63-9e43-4ccd-f1e2-698c27e7ed6c"
      },
      "outputs": [
        {
          "output_type": "stream",
          "name": "stdout",
          "text": [
            "Train set Accuracy:  1.0\n",
            "Test set Accuracy:  1.0\n"
          ]
        }
      ],
      "source": [
        "print(\"Train set Accuracy: \", metrics.accuracy_score(y_train, knn.predict(x_train)))\n",
        "print(\"Test set Accuracy: \", metrics.accuracy_score(y_test, yhat)) #accuracy score for test data & train data "
      ]
    },
    {
      "cell_type": "markdown",
      "metadata": {
        "id": "Cmy8FpjDu36e"
      },
      "source": [
        "### Dataset sources: https://www.covid19india.org & http://kaggle.com"
      ]
    },
    {
      "cell_type": "markdown",
      "metadata": {
        "id": "33FskPVUu36e"
      },
      "source": [
        "## Sample of Project by Jasmine Kaur"
      ]
    },
    {
      "cell_type": "code",
      "execution_count": 67,
      "metadata": {
        "id": "iDwFsALQu36e"
      },
      "outputs": [],
      "source": [
        ""
      ]
    }
  ],
  "metadata": {
    "kernelspec": {
      "display_name": "Python 3",
      "language": "python",
      "name": "python3"
    },
    "language_info": {
      "codemirror_mode": {
        "name": "ipython",
        "version": 3
      },
      "file_extension": ".py",
      "mimetype": "text/x-python",
      "name": "python",
      "nbconvert_exporter": "python",
      "pygments_lexer": "ipython3",
      "version": "3.7.6"
    },
    "colab": {
      "name": "Major Project .ipynb",
      "provenance": [],
      "include_colab_link": true
    }
  },
  "nbformat": 4,
  "nbformat_minor": 0
}